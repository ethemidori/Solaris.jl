{
 "cells": [
  {
   "cell_type": "markdown",
   "metadata": {},
   "source": [
    "# [Quadrature Rules](@id QuadratureRules)\n",
    "In this tutorial we investigate how recurrence coefficients of orthogonal polynomials lead to quadrature rules.\n",
    "\n",
    "We want to solve the integral\n",
    "$$\n",
    "I = \\int_{-1}^{1} f(t) w(t) \\mathrm{d} t,\n",
    "$$\n",
    "with the weight function\n",
    "$$\n",
    "w(t) = (1-t)^a (1+t)^b\n",
    "$$\n",
    "for all $t \\in [-1,1]$ and $a,b>-1$.\n",
    "For the function $f$ we choose\n",
    "$$\n",
    "f(t) = t^2.\n",
    "$$\n",
    "To solve the integral we do the following:\n",
    "    \n",
    "0. Choose number of nodes $N$;\n",
    "1. Generate recurrence coefficients;\n",
    "2. Generate quadrature rule from those recurrence coefficients.\n",
    "\n",
    "We will compare Gauss quadrature to Gauss-Radau quadrature and Gauss-Lobatto quadrature.\n",
    "\n",
    "Make sure to check out [this tutorial](@ref NumericalIntegration) too.\n",
    "\n",
    "Let's begin:"
   ]
  },
  {
   "cell_type": "code",
   "execution_count": 1,
   "metadata": {},
   "outputs": [],
   "source": [
    "using PolyChaos, LinearAlgebra\n",
    "my_f(t) = t^2\n",
    "a, b = 1.23, 3.45 # shape parameters of Jacobi weight\n",
    "int_exact = 0.353897; # reference value "
   ]
  },
  {
   "cell_type": "markdown",
   "metadata": {},
   "source": [
    "Now we compute $N$ recurrence coefficients."
   ]
  },
  {
   "cell_type": "code",
   "execution_count": 2,
   "metadata": {},
   "outputs": [
    {
     "data": {
      "text/plain": [
       "([0.332335, 0.179185, 0.112075, 0.07672, 0.0558153], [1.56402, 0.115827, 0.167954, 0.194976, 0.210635])"
      ]
     },
     "execution_count": 2,
     "metadata": {},
     "output_type": "execute_result"
    }
   ],
   "source": [
    "N = 4\n",
    "α, β = rm_jacobi(N+1,a,b)"
   ]
  },
  {
   "cell_type": "markdown",
   "metadata": {},
   "source": [
    "## Gauss\n",
    "The first quadrature rule is Gauss quadrature.\n",
    "This method goes back to [Golub and Welsch](https://en.wikipedia.org/wiki/Gaussian_quadrature#The_Golub-Welsch_algorithm)."
   ]
  },
  {
   "cell_type": "code",
   "execution_count": 3,
   "metadata": {},
   "outputs": [
    {
     "name": "stdout",
     "output_type": "stream",
     "text": [
      "first point:\t -0.5166972439999838\n",
      "end point:\t 0.8101563565074799\n",
      "error Gauss:\t 4.202394479069227e-7\n"
     ]
    }
   ],
   "source": [
    "n_gauss, w_gauss = gauss(N,α,β)\n",
    "int_gauss = dot(w_gauss,my_f.(n_gauss))\n",
    "print(\"first point:\\t $(n_gauss[1])\\n\")\n",
    "print(\"end point:\\t $(n_gauss[end])\\n\")\n",
    "print(\"error Gauss:\\t $(int_gauss-int_exact)\\n\")"
   ]
  },
  {
   "cell_type": "markdown",
   "metadata": {},
   "source": [
    "Since Gauss quadrature has a degree of exactness of $2N-1$, the value of the integral is exact.\n",
    "## Gauss-Radau\n",
    "Gauss-Radau quadrature is a variant of Gauss quadrature that allows to specify a value of a node that *has to be included*.\n",
    "We choose to include the right end point $t = 1.0$."
   ]
  },
  {
   "cell_type": "code",
   "execution_count": 4,
   "metadata": {},
   "outputs": [
    {
     "name": "stdout",
     "output_type": "stream",
     "text": [
      "first point:\t -0.42969928403284086\n",
      "end point:\t 0.9999999999999998\n",
      "error Radau:\t 4.2023944762936694e-7"
     ]
    }
   ],
   "source": [
    "n_radau, w_radau = radau(N-1,α,β,1.)\n",
    "int_radau = dot(w_radau,my_f.(n_radau))\n",
    "print(\"first point:\\t $(n_radau[1])\\n\")\n",
    "print(\"end point:\\t $(n_radau[end])\\n\")\n",
    "print(\"error Radau:\\t $(int_radau-int_exact)\")"
   ]
  },
  {
   "cell_type": "markdown",
   "metadata": {},
   "source": [
    "## Gauss-Lobatto\n",
    "Next, we look at Gauss-Lobatto quadrature, which allows to include two points.\n",
    "We choose to include the left and end point of the interval, which are $t \\in [-1.0, 1.0]$."
   ]
  },
  {
   "cell_type": "code",
   "execution_count": 5,
   "metadata": {},
   "outputs": [
    {
     "name": "stdout",
     "output_type": "stream",
     "text": [
      "first point:\t -0.9999999999999997\n",
      "end point:\t 1.0\n",
      "error Lobatto:\t 4.2023944740732233e-7"
     ]
    }
   ],
   "source": [
    "n_lob, w_lob = lobatto(N-2,α,β,-1.,1.)\n",
    "int_lob = dot(w_lob,my_f.(n_lob))\n",
    "print(\"first point:\\t $(n_lob[1])\\n\")\n",
    "print(\"end point:\\t $(n_lob[end])\\n\")\n",
    "print(\"error Lobatto:\\t $(int_lob-int_exact)\")"
   ]
  },
  {
   "cell_type": "markdown",
   "metadata": {},
   "source": [
    "There are other quadratures that we subsume as *all-purpose* quadrature rules.\n",
    "These include Fejér's first and second rule, and Clenshaw-Curtis quadrature.\n",
    "## Fejér's First Rule\n",
    "Fejér's first rule does *not* include the end points of the interval."
   ]
  },
  {
   "cell_type": "code",
   "execution_count": 6,
   "metadata": {},
   "outputs": [
    {
     "name": "stdout",
     "output_type": "stream",
     "text": [
      "first point:\t 0.9238795325112867\n",
      "end point:\t -0.9238795325112867\n",
      "error Fejer:\t -0.05060511879836693"
     ]
    }
   ],
   "source": [
    "n_fej, w_fej = fejer(N)\n",
    "int_fej = dot(w_fej,my_f.(n_fej).*(1 .- n_fej).^a.*(1 .+ n_fej).^b)\n",
    "print(\"first point:\\t $(n_fej[1])\\n\")\n",
    "print(\"end point:\\t $(n_fej[end])\\n\")\n",
    "print(\"error Fejer:\\t $(int_fej-int_exact)\")"
   ]
  },
  {
   "cell_type": "markdown",
   "metadata": {},
   "source": [
    "## Fejér's Second Rule\n",
    "[Fejér's second](https://en.wikipedia.org/wiki/Clenshaw%E2%80%93Curtis_quadrature) rule does include the end points of the interval."
   ]
  },
  {
   "cell_type": "code",
   "execution_count": 7,
   "metadata": {},
   "outputs": [
    {
     "name": "stdout",
     "output_type": "stream",
     "text": [
      "first point:\t 1.0\n",
      "end point:\t -1.0\n",
      "error Fejer2:\t 0.12124113856343288"
     ]
    }
   ],
   "source": [
    "n_fej2, w_fej2 = fejer2(N)\n",
    "int_fej2 = dot(w_fej2,my_f.(n_fej2).*(1 .- n_fej2).^a.*(1 .+ n_fej2).^b)\n",
    "print(\"first point:\\t $(n_fej2[1])\\n\")\n",
    "print(\"end point:\\t $(n_fej2[end])\\n\")\n",
    "print(\"error Fejer2:\\t $(int_fej2-int_exact)\")"
   ]
  },
  {
   "cell_type": "markdown",
   "metadata": {},
   "source": [
    "## Clenshaw-Curtis\n",
    "[Clenshaw-Curtis quadrature](https://en.wikipedia.org/wiki/Clenshaw%E2%80%93Curtis_quadrature) is similar to Féjer's second rule, as in it includes the end points of the integration interval. For the same number of nodes it is also more accurate than Féjer's rules, generally speaking."
   ]
  },
  {
   "cell_type": "code",
   "execution_count": 8,
   "metadata": {},
   "outputs": [
    {
     "name": "stdout",
     "output_type": "stream",
     "text": [
      "first point:\t\t 1.0\n",
      "end point:\t\t -1.0\n",
      "error Clenshaw-Curtis:\t 0.026213510850746302"
     ]
    }
   ],
   "source": [
    "n_cc, w_cc = clenshaw_curtis(N)\n",
    "int_cc = dot(w_cc,my_f.(n_cc).*(1 .- n_cc).^a.*(1 .+ n_cc).^b)\n",
    "print(\"first point:\\t\\t $(n_cc[1])\\n\")\n",
    "print(\"end point:\\t\\t $(n_cc[end])\\n\")\n",
    "print(\"error Clenshaw-Curtis:\\t $(int_cc-int_exact)\")"
   ]
  },
  {
   "cell_type": "markdown",
   "metadata": {},
   "source": [
    "As we can see, for the same number of nodes $N$, the quadrature rules based on the recurrence coefficients can greatly outperform the all-purpose quadratures.\n",
    "So, whenever possible, use quadrature rules based on recurrence coefficients of the orthogonal polynomials relative to the underlying measure.\n",
    "Make sure to check out [this tutorial](@ref NumericalIntegration) too."
   ]
  },
  {
   "cell_type": "code",
   "execution_count": null,
   "metadata": {},
   "outputs": [],
   "source": []
  }
 ],
 "metadata": {
  "kernelspec": {
   "display_name": "Julia 1.1.0",
   "language": "julia",
   "name": "julia-1.1"
  },
  "language_info": {
   "file_extension": ".jl",
   "mimetype": "application/julia",
   "name": "julia",
   "version": "1.1.0"
  }
 },
 "nbformat": 4,
 "nbformat_minor": 2
}
