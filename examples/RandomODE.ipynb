{
 "cells": [
  {
   "cell_type": "markdown",
   "metadata": {},
   "source": [
    "# Galerkin-based Solution of Random Differential Equation\n",
    "\n",
    "This tutorial demonstrates how random differential equations can be solved using polynomial chaos expansions (PCE).\n",
    "\n",
    "## Theory\n",
    "\n",
    "A random differential equation is an ordinary differential equation that has random parameters, hence its solution is itself a (time-varying) random variable.\n",
    "Perhaps the simplest non-trivial example is the following scalar, linear ordinary differential equation\n",
    "$$\n",
    "\\dot{x}(t) = a x(t), \\quad x(0) = x_{0},\n",
    "$$\n",
    "where $a$ is the realization of a Gaussian random variable $\\mathsf{a} \\sim \\mathcal{N}(\\mu, \\sigma^2)$ with mean $\\mu$ and variance $\\sigma^2$.\n",
    "Arguably, for every realization $a$ we can solve the differential equation and obtain\n",
    "$$\n",
    "x(t) = x_0 \\mathrm{e}^{a t},\n",
    "$$\n",
    "from which we find that\n",
    "$$\n",
    "\\ln (x(t)) = \\ln (x_0) + at \\sim \\mathcal{N}(\\ln(x_0) + \\mu t, (\\sigma t)^2).\n",
    "$$\n",
    "In other words, the logarithm of the solution is normally distributed (so-called [log-normal distribution](https://en.wikipedia.org/wiki/Log-normal_distribution)).\n",
    "\n",
    "We'd like to obtain this result numerically with the help of PCE.\n",
    "The first step is to define the (truncated) PCE for the random variable $\\mathsf{a}$\n",
    "$$\n",
    "\\mathsf{a} = \\sum_{i=0}^{L} a_i \\phi_i,\n",
    "$$\n",
    "where $a_i$ are the so-called PCE coefficients, and $\\phi_i$ are the orthogonal basis polynomials.\n",
    "As the solution to the random differential equation is itself a random variable, we treat $x(t)$ as the realization of the random variable $\\mathsf{x}(t)$, and define its PCE\n",
    "$$\n",
    "\\mathsf{x}(t) = \\sum_{i=0}^{L} x_i(t) \\phi_i.\n",
    "$$\n",
    "The question is how to obtain the unknown PCE coefficients $x_i(t)$ from the known PCE coefficients $a_i$ relative to the orthogonal basis polynomials $\\phi_i$.\n",
    "This can be done using Galerkin projection, which is nothing else than projecting onto the orthogonal basis.\n",
    "Think of a three-dimensional space, in which you have placed some three-dimensional object.\n",
    "If you know project the silhouett of the object onto every axis of the three-dimensional space, then you are doing a Galerkin projection.\n",
    "With PCE the concept is equivalent, but the imagination has a harder time.\n",
    "The first step for Galerkin projection is to insert the PCEs\n",
    "$$\n",
    "\\sum_{i=0}^{L} \\dot{x}_i(t) \\phi_i = \\sum_{j=0}^{L} a_j \\phi_j \\sum_{k=0}^{L} x_k(t) \\phi_k;\n",
    "$$\n",
    "the second step is to project onto every basis polynomial $\\phi_m$ for $m = 0, 1, \\dots, L$, and to exploit orthogonality of the basis.\n",
    "This gives\n",
    "$$\n",
    "\\dot{x}_m(t) \\langle \\phi_m, \\phi_m \\rangle = \\sum_{j=0}^{L} \\sum_{k=0}^{L} a_j x_k(t) \\langle \\phi_l \\phi_k, \\phi_m \\rangle \\quad m = 0, 1, \\dots, L.\n",
    "$$\n",
    "Of course, the initial condition must not be forgotten:\n",
    "$$\n",
    "x_0(0) = x_0, \\quad x_m(0) = 0 \\quad m = 1, \\dots, L.\n",
    "$$\n",
    "If we can solve this enlarged system of ordinary random differential equations, we can reconstruct the analytic solution.\n",
    "\n",
    "## Practice\n",
    "We begin by defining the random differential equation"
   ]
  },
  {
   "cell_type": "code",
   "execution_count": 4,
   "metadata": {},
   "outputs": [
    {
     "data": {
      "text/plain": [
       "(3.0, 0.01)"
      ]
     },
     "execution_count": 4,
     "metadata": {},
     "output_type": "execute_result"
    }
   ],
   "source": [
    "x0 = 2.0\n",
    "μ, σ = -0.5, 0.05 \n",
    "tend, Δt = 3.0, 0.01"
   ]
  },
  {
   "cell_type": "markdown",
   "metadata": {},
   "source": [
    "Next, we define an orthogonal basis (and its quadrature rule) relative to the Gaussian measure using `PolyChaos`.\n",
    "We choose a maximum degree of `L`."
   ]
  },
  {
   "cell_type": "code",
   "execution_count": 5,
   "metadata": {},
   "outputs": [
    {
     "data": {
      "text/plain": [
       "GaussOrthoPoly(6, [0.0, 0.0, 0.0, 0.0, 0.0, 0.0, 0.0, 0.0, 0.0, 0.0  …  0.0, 0.0, 0.0, 0.0, 0.0, 0.0, 0.0, 0.0, 0.0, 0.0], [1.0, 1.0, 2.0, 3.0, 4.0, 5.0, 6.0, 7.0, 8.0, 9.0  …  30.0, 31.0, 32.0, 33.0, 34.0, 35.0, 36.0, 37.0, 38.0, 39.0], GaussMeasure(PolyChaos.w_gaussian, (-Inf, Inf), true), Quad(\"golubwelsch\", 39, [-11.2897, -10.3133, -9.50131, -8.77344, -8.09915, -7.46268, -6.85455, -6.26849, -5.70006, -5.14596  …  5.14596, 5.70006, 6.26849, 6.85455, 7.46268, 8.09915, 8.77344, 9.50131, 10.3133, 11.2897], [9.44334e-29, 2.78479e-24, 7.59245e-21, 5.3707e-18, 1.48613e-15, 1.99873e-13, 1.49172e-11, 6.74865e-10, 1.96987e-8, 3.88412e-7  …  3.88412e-7, 1.96987e-8, 6.74865e-10, 1.49172e-11, 1.99873e-13, 1.48613e-15, 5.3707e-18, 7.59245e-21, 2.78479e-24, 9.44334e-29]))"
      ]
     },
     "execution_count": 5,
     "metadata": {},
     "output_type": "execute_result"
    }
   ],
   "source": [
    "using PolyChaos\n",
    "L, Nrec = 6, 40\n",
    "opq = GaussOrthoPoly(L;Nrec=Nrec)"
   ]
  },
  {
   "cell_type": "markdown",
   "metadata": {},
   "source": [
    "Now we can define the PCE for $\\mathsf{a}$ and solve the Galerkin-projected ordinary differential equation using `DifferentialEquations.jl`."
   ]
  },
  {
   "cell_type": "code",
   "execution_count": 6,
   "metadata": {},
   "outputs": [],
   "source": [
    "using DifferentialEquations\n",
    "\n",
    "a = [ convert2affinePCE(μ,σ,opq); zeros(Float64,L-1) ] # PCE coefficients of a\n",
    "xinit = [ x0; zeros(Float64,L) ] # PCE coefficients of initial condition\n",
    "\n",
    "t2 = Tensor(2,opq); # \\langle \\phi_i, \\phi_j \\rangle\n",
    "t3 = Tensor(3,opq); # \\langle \\phi_i \\phi_j, \\phi_k \\rangle\n",
    "\n",
    "# Galerkin-projected random differential equation\n",
    "function ODEgalerkin(du,u,p,t)\n",
    "   du[:] = [ sum( p[j+1]*u[k+1]*t3.get([j,k,m])/t2.get([m,m]) for j=0:L for k=0:L) for m=0:L ] \n",
    "end\n",
    "\n",
    "probgalerkin = ODEProblem(ODEgalerkin,xinit,(0,tend),a)\n",
    "solgalerkin = solve(probgalerkin;saveat=0:Δt:tend)\n",
    "t, x = solgalerkin.t, solgalerkin.u;"
   ]
  },
  {
   "cell_type": "markdown",
   "metadata": {},
   "source": [
    "For later purposes we compute the expected value and the standard deviation at all time instants using PCE."
   ]
  },
  {
   "cell_type": "code",
   "execution_count": 7,
   "metadata": {},
   "outputs": [
    {
     "data": {
      "text/plain": [
       "301-element Array{Float64,1}:\n",
       " 0.0                  \n",
       " 0.0009950126657575441\n",
       " 0.0019801011629580713\n",
       " 0.0029553408323050867\n",
       " 0.003920806490164937 \n",
       " 0.004876572450341695 \n",
       " 0.005822712524165987 \n",
       " 0.006759300020584717 \n",
       " 0.007686407746251699 \n",
       " 0.00860410800561929  \n",
       " 0.00951247260103081  \n",
       " 0.010411572905029297 \n",
       " 0.01130147989492374  \n",
       " ⋮                    \n",
       " 0.0692065255294234   \n",
       " 0.06910714081071131  \n",
       " 0.0690071043857249   \n",
       " 0.06890642513422096  \n",
       " 0.06880511185811229  \n",
       " 0.06870317328148076  \n",
       " 0.06860061805059041  \n",
       " 0.06849745473390102  \n",
       " 0.0683936918220815   \n",
       " 0.06828933772802367  \n",
       " 0.06818440078685599  \n",
       " 0.06807888925595759  "
      ]
     },
     "execution_count": 7,
     "metadata": {},
     "output_type": "execute_result"
    }
   ],
   "source": [
    "# an advantage of PCE is that moments can be computed from the PCE coefficients alone; no sampling required\n",
    "mean_pce = [ mean(x[i],opq) for i=1:length(x)]  \n",
    "std_pce = [ std(x[i],opq) for i=1:length(x) ]"
   ]
  },
  {
   "cell_type": "markdown",
   "metadata": {},
   "source": [
    "We compare the solution from PCE to a Monte-Carlo-based solution.\n",
    "That means to solve the ordinary differential equation for many samples of $\\mathsf{a}$.\n",
    "We first sample from the measure using `sampleMeasure`, and then generate samples of $\\mathsf{a}$ using `evaluatePCE`.\n",
    "After that we solve the ODE and store the results in `xmc`."
   ]
  },
  {
   "cell_type": "code",
   "execution_count": 8,
   "metadata": {},
   "outputs": [],
   "source": [
    "using Statistics\n",
    "Nsmpl = 5000\n",
    "ξ = sampleMeasure(Nsmpl,opq)     # sample from Gaussian measure; effectively randn() here    \n",
    "asmpl = evaluatePCE(a,ξ,opq)     # sample random variable with PCE coefficients a; effectively μ + σ*randn() here\n",
    "# or: asmpl = samplePCE(Nsmpl,a,opq)\n",
    "xmc = [ solve(ODEProblem((u,p,t)->aa*u,x0,(0,tend));saveat=0:Δt:tend).u for aa in asmpl]\n",
    "xmc = hcat(xmc...);"
   ]
  },
  {
   "cell_type": "markdown",
   "metadata": {},
   "source": [
    "Now we can compare the Monte Carlo mean and standard deviation to the expression from PCE for every time instant."
   ]
  },
  {
   "cell_type": "code",
   "execution_count": 9,
   "metadata": {},
   "outputs": [
    {
     "data": {
      "text/plain": [
       "301×2 Array{Float64,2}:\n",
       " 0.0          0.0        \n",
       " 2.13335e-6   1.81995e-5 \n",
       " 4.26359e-6   3.62305e-5 \n",
       " 6.39064e-6   5.4094e-5  \n",
       " 8.5144e-6    7.17914e-5 \n",
       " 1.06348e-5   8.93237e-5 \n",
       " 1.27516e-5   0.000106692\n",
       " 1.48649e-5   0.000123898\n",
       " 1.69744e-5   0.000140942\n",
       " 1.90801e-5   0.000157826\n",
       " 2.11818e-5   0.00017455 \n",
       " 2.32797e-5   0.000191117\n",
       " 2.53731e-5   0.000207527\n",
       " ⋮                       \n",
       " 0.000334613  0.0013965  \n",
       " 0.000334785  0.00139495 \n",
       " 0.000334952  0.00139338 \n",
       " 0.000335112  0.00139179 \n",
       " 0.000335266  0.00139019 \n",
       " 0.000335415  0.00138858 \n",
       " 0.000335558  0.00138695 \n",
       " 0.000335696  0.00138531 \n",
       " 0.000335828  0.00138365 \n",
       " 0.000335955  0.00138198 \n",
       " 0.000336076  0.0013803  \n",
       " 0.000336192  0.00137861 "
      ]
     },
     "execution_count": 9,
     "metadata": {},
     "output_type": "execute_result"
    }
   ],
   "source": [
    "[ mean(xmc,dims=2)-mean_pce std(xmc,dims=2)-std_pce]"
   ]
  },
  {
   "cell_type": "markdown",
   "metadata": {},
   "source": [
    "Clearly, the accuracy of PCE deteriorates over time.\n",
    "Possible remedies are to increase the dimension of PCE, and to tweak the tolerances of the integrator.\n",
    "\n",
    "Finally, we compare whether the samples follow a log-normal distribution, and compare the result to the analytic mean and standard deviation."
   ]
  },
  {
   "cell_type": "code",
   "execution_count": 10,
   "metadata": {},
   "outputs": [
    {
     "data": {
      "text/plain": [
       "301×2 Array{Float64,2}:\n",
       " -6.66134e-16  6.662e-16  \n",
       "  1.06746e-6   9.14208e-6 \n",
       "  2.1349e-6    1.82842e-5 \n",
       "  3.20234e-6   2.74263e-5 \n",
       "  4.26979e-6   3.65683e-5 \n",
       "  5.33725e-6   4.57104e-5 \n",
       "  6.40472e-6   5.48525e-5 \n",
       "  7.47219e-6   6.39946e-5 \n",
       "  8.53966e-6   7.31367e-5 \n",
       "  9.60712e-6   8.22787e-5 \n",
       "  1.06746e-5   9.14208e-5 \n",
       "  1.1742e-5    0.000100563\n",
       "  1.28091e-5   0.000109705\n",
       "  ⋮                       \n",
       "  0.000308754  0.00264189 \n",
       "  0.000309829  0.00265103 \n",
       "  0.000310903  0.00266017 \n",
       "  0.000311976  0.00266931 \n",
       "  0.000313048  0.00267845 \n",
       "  0.000314118  0.00268759 \n",
       "  0.000315188  0.00269673 \n",
       "  0.000316257  0.00270587 \n",
       "  0.000317325  0.00271501 \n",
       "  0.000318393  0.00272415 \n",
       "  0.00031946   0.00273329 \n",
       "  0.000320527  0.00274243 "
      ]
     },
     "execution_count": 10,
     "metadata": {},
     "output_type": "execute_result"
    }
   ],
   "source": [
    "logx_pce = [ log.(evaluatePCE(x[i],ξ,opq)) for i=1:length(t)]\n",
    "[mean.(logx_pce)-(log(x0) .+ μ*t) std.(logx_pce)-σ*t ]"
   ]
  },
  {
   "cell_type": "code",
   "execution_count": null,
   "metadata": {},
   "outputs": [],
   "source": []
  }
 ],
 "metadata": {
  "kernelspec": {
   "display_name": "Julia 1.1.0",
   "language": "julia",
   "name": "julia-1.1"
  },
  "language_info": {
   "file_extension": ".jl",
   "mimetype": "application/julia",
   "name": "julia",
   "version": "1.1.0"
  }
 },
 "nbformat": 4,
 "nbformat_minor": 2
}
