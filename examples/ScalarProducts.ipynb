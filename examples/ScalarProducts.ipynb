{
 "cells": [
  {
   "cell_type": "markdown",
   "metadata": {},
   "source": [
    "# Computation of Scalar Products\n",
    "\n",
    "By now, we are able to construct orthogonal polynomials, and to construct quadrature rules for a given nonnegative weight function, respectively.\n",
    "Now we combine both ideas to solve integrals involving the orthogonal polynomials\n",
    "$$\n",
    "\\langle \\phi_{i_1} \\phi_{i_2} \\cdots \\phi_{i_{m-1}}, \\phi_{i_m} \\rangle\n",
    "= \\int \\phi_{i_1}(t) \\phi_{i_2}(t) \\cdots \\phi_{i_{m-1}}(t) \\phi_{i_m}(t) w(t) \\mathrm{d} t,\n",
    "$$\n",
    "both for the univariate and multivariate case.\n",
    "The integrand is a polynomial (possibly multivariate) that can be solved exactly with the appropriate Gauss quadrature rules.\n",
    "\n",
    "Notice: To simplify notation we drop the integration interval.\n",
    "It is clear from the context.\n",
    "\n",
    "\n",
    "## Univariate Polynomials\n",
    "### Classical Polynomials\n",
    "Let's begin with a univariate basis for some *classical* orthogonal polynomial"
   ]
  },
  {
   "cell_type": "code",
   "execution_count": 1,
   "metadata": {},
   "outputs": [
    {
     "data": {
      "text/plain": [
       "Beta01OrthoPoly(4, [0.396226, 0.453089, 0.473266, 0.482729, 0.487923, 0.491081, 0.493143, 0.494564, 0.495585, 0.496343, 0.496921, 0.497372, 0.497731, 0.498021, 0.498259, 0.498456, 0.498622, 0.498762, 0.498882, 0.498985], [1.0, 0.0379732, 0.0495282, 0.0544964, 0.0570749, 0.0585822, 0.0595388, 0.0601835, 0.0606385, 0.0609715, 0.0612226, 0.0614165, 0.0615694, 0.0616921, 0.061792, 0.0618745, 0.0619433, 0.0620014, 0.0620509, 0.0620933], Beta01Measure(getfield(PolyChaos, Symbol(\"##108#109\")){Float64,Float64}(2.1, 3.2), (0, 1), false, 2.1, 3.2), Quad(\"golubwelsch\", 19, [0.00878891, 0.0284501, 0.0585213, 0.0983381, 0.147024, 0.203505, 0.266539, 0.334737, 0.406597, 0.480536, 0.554927, 0.62813, 0.698535, 0.76459, 0.824841, 0.877962, 0.922785, 0.958329, 0.983839], [0.00115168, 0.00700726, 0.0203149, 0.0414026, 0.0677717, 0.0947199, 0.116731, 0.129136, 0.129476, 0.118122, 0.0980077, 0.0735996, 0.0495353, 0.0293896, 0.014964, 0.00625271, 0.00197967, 0.000403515, 3.42927e-5]))"
      ]
     },
     "execution_count": 1,
     "metadata": {},
     "output_type": "execute_result"
    }
   ],
   "source": [
    "using PolyChaos\n",
    "deg, n = 4, 20\n",
    "s_α, s_β = 2.1, 3.2\n",
    "opq = Beta01OrthoPoly(deg,s_α,s_β;Nrec=n)"
   ]
  },
  {
   "cell_type": "markdown",
   "metadata": {},
   "source": [
    "By default, an $n$-point Gauss quadrature rule is create relative to the underlying measure `op.measure`, where $n$ is the number of recurrence coefficients stored in `op.α` and `op.β`.\n",
    "\n",
    "To compute the squared norms\n",
    "$$\n",
    "\\| \\phi_k \\|^2 = \\langle \\phi_k, \\phi_k  \\rangle\n",
    "= \\int \\phi_k(t) \\phi_k(t) w(t) \\mathrm{d} t\n",
    "$$\n",
    "\n",
    "of the basis we call `computeSP2()`"
   ]
  },
  {
   "cell_type": "code",
   "execution_count": 2,
   "metadata": {},
   "outputs": [
    {
     "data": {
      "text/plain": [
       "5-element Array{Float64,1}:\n",
       " 1.0                   \n",
       " 0.03797318144060756   \n",
       " 0.0018807430768498865 \n",
       " 0.00010249372143217383\n",
       " 5.849823409553853e-6  "
      ]
     },
     "execution_count": 2,
     "metadata": {},
     "output_type": "execute_result"
    }
   ],
   "source": [
    "normsq = computeSP2(opq)"
   ]
  },
  {
   "cell_type": "markdown",
   "metadata": {},
   "source": [
    "For the general case\n",
    "$$\n",
    "\\langle \\phi_{i_1} \\phi_{i_2} \\cdots \\phi_{i_{m-1}}, \\phi_{i_m} \\rangle\n",
    "= \\int \\phi_{i_1}(t) \\phi_{i_2}(t) \\cdots \\phi_{i_{m-1}}(t) \\phi_{i_m}(t) w(t) \\mathrm{d} t,\n",
    "$$\n",
    "there exists a type `Tensor` that requires only two arguments: the *dimension* $m \\geq 1$, and an `OrthoPolyQ`"
   ]
  },
  {
   "cell_type": "code",
   "execution_count": 3,
   "metadata": {},
   "outputs": [
    {
     "data": {
      "text/plain": [
       "Tensor(3,   [1 ]  =  1.0\n",
       "  [6 ]  =  0.0379732\n",
       "  [11]  =  0.00188074\n",
       "  [16]  =  0.000102494\n",
       "  [21]  =  5.84982e-6\n",
       "  [22]  =  0.00215924\n",
       "  [23]  =  0.00188074\n",
       "  [27]  =  0.000144891\n",
       "  [28]  =  0.000102494\n",
       "  [32]  =  8.86598e-6\n",
       "        ⋮\n",
       "  [37]  =  5.36411e-7\n",
       "  [43]  =  0.000127149\n",
       "  [44]  =  1.0934e-5\n",
       "  [45]  =  5.84982e-6\n",
       "  [48]  =  7.80614e-6\n",
       "  [49]  =  7.09802e-7\n",
       "  [53]  =  4.73123e-7\n",
       "  [64]  =  9.40423e-7\n",
       "  [65]  =  5.08904e-7\n",
       "  [69]  =  6.53232e-8\n",
       "  [85]  =  3.55404e-8, getfield(PolyChaos, Symbol(\"#getfun#41\")){Int64,Beta01OrthoPoly,SparseArrays.SparseVector{Float64,Int64}}(3, Beta01OrthoPoly(4, [0.396226, 0.453089, 0.473266, 0.482729, 0.487923, 0.491081, 0.493143, 0.494564, 0.495585, 0.496343, 0.496921, 0.497372, 0.497731, 0.498021, 0.498259, 0.498456, 0.498622, 0.498762, 0.498882, 0.498985], [1.0, 0.0379732, 0.0495282, 0.0544964, 0.0570749, 0.0585822, 0.0595388, 0.0601835, 0.0606385, 0.0609715, 0.0612226, 0.0614165, 0.0615694, 0.0616921, 0.061792, 0.0618745, 0.0619433, 0.0620014, 0.0620509, 0.0620933], Beta01Measure(getfield(PolyChaos, Symbol(\"##108#109\")){Float64,Float64}(2.1, 3.2), (0, 1), false, 2.1, 3.2), Quad(\"golubwelsch\", 19, [0.00878891, 0.0284501, 0.0585213, 0.0983381, 0.147024, 0.203505, 0.266539, 0.334737, 0.406597, 0.480536, 0.554927, 0.62813, 0.698535, 0.76459, 0.824841, 0.877962, 0.922785, 0.958329, 0.983839], [0.00115168, 0.00700726, 0.0203149, 0.0414026, 0.0677717, 0.0947199, 0.116731, 0.129136, 0.129476, 0.118122, 0.0980077, 0.0735996, 0.0495353, 0.0293896, 0.014964, 0.00625271, 0.00197967, 0.000403515, 3.42927e-5])),   [1 ]  =  1.0\n",
       "  [6 ]  =  0.0379732\n",
       "  [11]  =  0.00188074\n",
       "  [16]  =  0.000102494\n",
       "  [21]  =  5.84982e-6\n",
       "  [22]  =  0.00215924\n",
       "  [23]  =  0.00188074\n",
       "  [27]  =  0.000144891\n",
       "  [28]  =  0.000102494\n",
       "  [32]  =  8.86598e-6\n",
       "        ⋮\n",
       "  [37]  =  5.36411e-7\n",
       "  [43]  =  0.000127149\n",
       "  [44]  =  1.0934e-5\n",
       "  [45]  =  5.84982e-6\n",
       "  [48]  =  7.80614e-6\n",
       "  [49]  =  7.09802e-7\n",
       "  [53]  =  4.73123e-7\n",
       "  [64]  =  9.40423e-7\n",
       "  [65]  =  5.08904e-7\n",
       "  [69]  =  6.53232e-8\n",
       "  [85]  =  3.55404e-8), Beta01OrthoPoly(4, [0.396226, 0.453089, 0.473266, 0.482729, 0.487923, 0.491081, 0.493143, 0.494564, 0.495585, 0.496343, 0.496921, 0.497372, 0.497731, 0.498021, 0.498259, 0.498456, 0.498622, 0.498762, 0.498882, 0.498985], [1.0, 0.0379732, 0.0495282, 0.0544964, 0.0570749, 0.0585822, 0.0595388, 0.0601835, 0.0606385, 0.0609715, 0.0612226, 0.0614165, 0.0615694, 0.0616921, 0.061792, 0.0618745, 0.0619433, 0.0620014, 0.0620509, 0.0620933], Beta01Measure(getfield(PolyChaos, Symbol(\"##108#109\")){Float64,Float64}(2.1, 3.2), (0, 1), false, 2.1, 3.2), Quad(\"golubwelsch\", 19, [0.00878891, 0.0284501, 0.0585213, 0.0983381, 0.147024, 0.203505, 0.266539, 0.334737, 0.406597, 0.480536, 0.554927, 0.62813, 0.698535, 0.76459, 0.824841, 0.877962, 0.922785, 0.958329, 0.983839], [0.00115168, 0.00700726, 0.0203149, 0.0414026, 0.0677717, 0.0947199, 0.116731, 0.129136, 0.129476, 0.118122, 0.0980077, 0.0735996, 0.0495353, 0.0293896, 0.014964, 0.00625271, 0.00197967, 0.000403515, 3.42927e-5])))"
      ]
     },
     "execution_count": 3,
     "metadata": {},
     "output_type": "execute_result"
    }
   ],
   "source": [
    "m = 3\n",
    "t = Tensor(3,opq)"
   ]
  },
  {
   "cell_type": "markdown",
   "metadata": {},
   "source": [
    "To get the desired entries, `Tensor`comes with a `get()` function that is called for some index $a \\in \\mathbb{N}_0^m$ that has the entries $a = [i_1, i_2, \\dots, i_m]$.\n",
    "For example\n"
   ]
  },
  {
   "cell_type": "code",
   "execution_count": 4,
   "metadata": {},
   "outputs": [
    {
     "data": {
      "text/plain": [
       "0.00010249372143217367"
      ]
     },
     "execution_count": 4,
     "metadata": {},
     "output_type": "execute_result"
    }
   ],
   "source": [
    "t.get([1,2,3])"
   ]
  },
  {
   "cell_type": "markdown",
   "metadata": {},
   "source": [
    "Or using comprehension"
   ]
  },
  {
   "cell_type": "code",
   "execution_count": 5,
   "metadata": {},
   "outputs": [
    {
     "data": {
      "text/plain": [
       "5×5×5 Array{Float64,3}:\n",
       "[:, :, 1] =\n",
       " 1.0  0.0        0.0         0.0          0.0       \n",
       " 0.0  0.0379732  0.0         0.0          0.0       \n",
       " 0.0  0.0        0.00188074  0.0          0.0       \n",
       " 0.0  0.0        0.0         0.000102494  0.0       \n",
       " 0.0  0.0        0.0         0.0          5.84982e-6\n",
       "\n",
       "[:, :, 2] =\n",
       " 0.0        0.0379732   0.0          0.0          0.0       \n",
       " 0.0379732  0.00215924  0.00188074   0.0          0.0       \n",
       " 0.0        0.00188074  0.000144891  0.000102494  0.0       \n",
       " 0.0        0.0         0.000102494  8.86598e-6   5.84982e-6\n",
       " 0.0        0.0         0.0          5.84982e-6   5.36411e-7\n",
       "\n",
       "[:, :, 3] =\n",
       " 0.0         0.0          0.00188074   0.0          0.0       \n",
       " 0.0         0.00188074   0.000144891  0.000102494  0.0       \n",
       " 0.00188074  0.000144891  0.000127149  1.0934e-5    5.84982e-6\n",
       " 0.0         0.000102494  1.0934e-5    7.80614e-6   7.09802e-7\n",
       " 0.0         0.0          5.84982e-6   7.09802e-7   4.73123e-7\n",
       "\n",
       "[:, :, 4] =\n",
       " 0.0          0.0          0.0          0.000102494  0.0       \n",
       " 0.0          0.0          0.000102494  8.86598e-6   5.84982e-6\n",
       " 0.0          0.000102494  1.0934e-5    7.80614e-6   7.09802e-7\n",
       " 0.000102494  8.86598e-6   7.80614e-6   9.40423e-7   5.08904e-7\n",
       " 0.0          5.84982e-6   7.09802e-7   5.08904e-7   6.53232e-8\n",
       "\n",
       "[:, :, 5] =\n",
       " 0.0         0.0         0.0         0.0         5.84982e-6\n",
       " 0.0         0.0         0.0         5.84982e-6  5.36411e-7\n",
       " 0.0         0.0         5.84982e-6  7.09802e-7  4.73123e-7\n",
       " 0.0         5.84982e-6  7.09802e-7  5.08904e-7  6.53232e-8\n",
       " 5.84982e-6  5.36411e-7  4.73123e-7  6.53232e-8  3.55404e-8"
      ]
     },
     "execution_count": 5,
     "metadata": {},
     "output_type": "execute_result"
    }
   ],
   "source": [
    "T = [ t.get([i1,i2,i3]) for i1=0:dim(opq)-1,i2=0:dim(opq)-1,i3=0:dim(opq)-1]"
   ]
  },
  {
   "cell_type": "markdown",
   "metadata": {},
   "source": [
    "Notice that we can cross-check the results."
   ]
  },
  {
   "cell_type": "code",
   "execution_count": 6,
   "metadata": {},
   "outputs": [
    {
     "name": "stdout",
     "output_type": "stream",
     "text": [
      "normsq == LinearAlgebra.diag(T[:, :, 1]) = true\n",
      "normsq == LinearAlgebra.diag(T[:, 1, :]) = true\n",
      "normsq == LinearAlgebra.diag(T[1, :, :]) = true\n"
     ]
    },
    {
     "data": {
      "text/plain": [
       "true"
      ]
     },
     "execution_count": 6,
     "metadata": {},
     "output_type": "execute_result"
    }
   ],
   "source": [
    "using LinearAlgebra\n",
    "@show normsq == LinearAlgebra.diag(T[:,:,1])\n",
    "@show normsq == LinearAlgebra.diag(T[:,1,:])\n",
    "@show normsq == LinearAlgebra.diag(T[1,:,:])"
   ]
  },
  {
   "cell_type": "markdown",
   "metadata": {},
   "source": [
    "Also, `normsq` can be computed analogously in `Tensor` format"
   ]
  },
  {
   "cell_type": "code",
   "execution_count": 7,
   "metadata": {},
   "outputs": [
    {
     "name": "stdout",
     "output_type": "stream",
     "text": [
      "normsq == [t2.get([i, i]) for i = 0:dim(opq) - 1] = true\n"
     ]
    },
    {
     "data": {
      "text/plain": [
       "true"
      ]
     },
     "execution_count": 7,
     "metadata": {},
     "output_type": "execute_result"
    }
   ],
   "source": [
    "t2 = Tensor(2,opq)\n",
    "@show normsq == [ t2.get([i,i]) for i=0:dim(opq)-1]"
   ]
  },
  {
   "cell_type": "markdown",
   "metadata": {},
   "source": [
    "### Arbitrary Weights\n",
    "Of course, the type `OrthoPolyQ` can be constructed for arbitrary weights $w(t)$.\n",
    "In this case we have to compute the orthogonal basis and the respective quadrature rule.\n",
    "Let's re-work the above example by hand."
   ]
  },
  {
   "cell_type": "code",
   "execution_count": 15,
   "metadata": {},
   "outputs": [
    {
     "data": {
      "text/plain": [
       "OrthoPoly(\"my_op\", 4, [0.396226, 0.453089, 0.473266, 0.482729, 0.487923, 0.491081, 0.493143, 0.494564, 0.495585, 0.496343, 0.496921, 0.497372, 0.497731, 0.498021, 0.498259, 0.498456, 0.498622, 0.498762, 0.498882, 0.498985], [1.0, 0.0379732, 0.0495282, 0.0544964, 0.0570749, 0.0585822, 0.0595388, 0.0601835, 0.0606385, 0.0609715, 0.0612226, 0.0614165, 0.0615694, 0.0616921, 0.061792, 0.0618745, 0.0619433, 0.0620014, 0.0620509, 0.0620933], Measure(\"my_meas\", w, (0, 1), false, Dict{Any,Any}()), Quad(\"golubwelsch\", 19, [0.00878891, 0.0284501, 0.0585213, 0.0983381, 0.147024, 0.203505, 0.266539, 0.334737, 0.406597, 0.480536, 0.554927, 0.62813, 0.698535, 0.76459, 0.824841, 0.877962, 0.922785, 0.958329, 0.983839], [0.00115168, 0.00700726, 0.0203149, 0.0414026, 0.0677717, 0.0947199, 0.116731, 0.129136, 0.129476, 0.118122, 0.0980077, 0.0735996, 0.0495353, 0.0293896, 0.014964, 0.00625271, 0.00197967, 0.000403515, 3.42927e-5]))"
      ]
     },
     "execution_count": 15,
     "metadata": {},
     "output_type": "execute_result"
    }
   ],
   "source": [
    "using SpecialFunctions\n",
    "supp = (0,1)\n",
    "function w(t)\n",
    "    supp[1]<=t<=supp[2] ? (t^(s_α-1)*(1-t)^(s_β-1)/SpecialFunctions.beta(s_α,s_β)) : error(\"$t not in support\")\n",
    "end\n",
    "my_meas = Measure(\"my_meas\",w,supp,false,Dict())\n",
    "my_opq = OrthoPoly(\"my_op\",deg,my_meas;Nrec=n)"
   ]
  },
  {
   "cell_type": "markdown",
   "metadata": {},
   "source": [
    "Now we can compute the squared norms $\\| \\phi_k \\|^2$"
   ]
  },
  {
   "cell_type": "code",
   "execution_count": 16,
   "metadata": {},
   "outputs": [
    {
     "data": {
      "text/plain": [
       "5-element Array{Float64,1}:\n",
       " 0.9999999999996537   \n",
       " 0.037973181440551666 \n",
       " 0.0018807430768424916\n",
       " 0.0001024937214313095\n",
       " 5.849823409460972e-6 "
      ]
     },
     "execution_count": 16,
     "metadata": {},
     "output_type": "execute_result"
    }
   ],
   "source": [
    "my_normsq = computeSP2(my_opq)"
   ]
  },
  {
   "cell_type": "markdown",
   "metadata": {},
   "source": [
    "And the tensor"
   ]
  },
  {
   "cell_type": "code",
   "execution_count": 17,
   "metadata": {},
   "outputs": [
    {
     "data": {
      "text/plain": [
       "5×5×5 Array{Float64,3}:\n",
       "[:, :, 1] =\n",
       " 1.0  0.0        0.0         0.0          0.0       \n",
       " 0.0  0.0379732  0.0         0.0          0.0       \n",
       " 0.0  0.0        0.00188074  0.0          0.0       \n",
       " 0.0  0.0        0.0         0.000102494  0.0       \n",
       " 0.0  0.0        0.0         0.0          5.84982e-6\n",
       "\n",
       "[:, :, 2] =\n",
       " 0.0        0.0379732   0.0          0.0          0.0       \n",
       " 0.0379732  0.00215924  0.00188074   0.0          0.0       \n",
       " 0.0        0.00188074  0.000144891  0.000102494  0.0       \n",
       " 0.0        0.0         0.000102494  8.86598e-6   5.84982e-6\n",
       " 0.0        0.0         0.0          5.84982e-6   5.36411e-7\n",
       "\n",
       "[:, :, 3] =\n",
       " 0.0         0.0          0.00188074   0.0          0.0       \n",
       " 0.0         0.00188074   0.000144891  0.000102494  0.0       \n",
       " 0.00188074  0.000144891  0.000127149  1.0934e-5    5.84982e-6\n",
       " 0.0         0.000102494  1.0934e-5    7.80614e-6   7.09802e-7\n",
       " 0.0         0.0          5.84982e-6   7.09802e-7   4.73123e-7\n",
       "\n",
       "[:, :, 4] =\n",
       " 0.0          0.0          0.0          0.000102494  0.0       \n",
       " 0.0          0.0          0.000102494  8.86598e-6   5.84982e-6\n",
       " 0.0          0.000102494  1.0934e-5    7.80614e-6   7.09802e-7\n",
       " 0.000102494  8.86598e-6   7.80614e-6   9.40423e-7   5.08904e-7\n",
       " 0.0          5.84982e-6   7.09802e-7   5.08904e-7   6.53232e-8\n",
       "\n",
       "[:, :, 5] =\n",
       " 0.0         0.0         0.0         0.0         5.84982e-6\n",
       " 0.0         0.0         0.0         5.84982e-6  5.36411e-7\n",
       " 0.0         0.0         5.84982e-6  7.09802e-7  4.73123e-7\n",
       " 0.0         5.84982e-6  7.09802e-7  5.08904e-7  6.53232e-8\n",
       " 5.84982e-6  5.36411e-7  4.73123e-7  6.53232e-8  3.55404e-8"
      ]
     },
     "execution_count": 17,
     "metadata": {},
     "output_type": "execute_result"
    }
   ],
   "source": [
    "my_t = Tensor(m,my_opq)\n",
    "my_T = [ my_t.get([i1,i2,i3]) for i1=0:dim(opq)-1,i2=0:dim(opq)-1,i3=0:dim(opq)-1]"
   ]
  },
  {
   "cell_type": "markdown",
   "metadata": {},
   "source": [
    "Let's compare the results:"
   ]
  },
  {
   "cell_type": "code",
   "execution_count": 18,
   "metadata": {},
   "outputs": [
    {
     "name": "stdout",
     "output_type": "stream",
     "text": [
      "abs.(normsq - my_normsq) = [3.46279e-13, 5.58928e-14, 7.39491e-15, 8.64326e-16, 9.28806e-17]\n",
      "norm(T - my_T) = 3.600950231679057e-13\n"
     ]
    },
    {
     "data": {
      "text/plain": [
       "3.600950231679057e-13"
      ]
     },
     "execution_count": 18,
     "metadata": {},
     "output_type": "execute_result"
    }
   ],
   "source": [
    "@show abs.(normsq-my_normsq)\n",
    "@show norm(T-my_T)"
   ]
  },
  {
   "cell_type": "markdown",
   "metadata": {},
   "source": [
    "Notice: __The possibility to create quadrature rules for arbitrary weights should be reserved to cases different from *classical* ones.__"
   ]
  },
  {
   "cell_type": "markdown",
   "metadata": {},
   "source": [
    "### Multivariate Polynomials\n",
    "For multivariate polynomials the syntax for `Tensor` is very much alike, except that we are dealing with the type `MultiOrthoPoly` now."
   ]
  },
  {
   "cell_type": "code",
   "execution_count": 19,
   "metadata": {},
   "outputs": [
    {
     "data": {
      "text/plain": [
       "MultiOrthoPoly([\"Beta01OrthoPoly\", \"my_op\"], 4, 15, [0 0; 1 0; … ; 1 3; 0 4], ProductMeasure(getfield(PolyChaos, Symbol(\"#w#36\")){Array{AbstractOrthoPoly,1}}(AbstractOrthoPoly[Beta01OrthoPoly(4, [0.396226, 0.453089, 0.473266, 0.482729, 0.487923, 0.491081, 0.493143, 0.494564, 0.495585, 0.496343, 0.496921, 0.497372, 0.497731, 0.498021, 0.498259, 0.498456, 0.498622, 0.498762, 0.498882, 0.498985], [1.0, 0.0379732, 0.0495282, 0.0544964, 0.0570749, 0.0585822, 0.0595388, 0.0601835, 0.0606385, 0.0609715, 0.0612226, 0.0614165, 0.0615694, 0.0616921, 0.061792, 0.0618745, 0.0619433, 0.0620014, 0.0620509, 0.0620933], Beta01Measure(##108#109{Float64,Float64}(2.1, 3.2), (0, 1), false, 2.1, 3.2), Quad(\"golubwelsch\", 19, [0.00878891, 0.0284501, 0.0585213, 0.0983381, 0.147024, 0.203505, 0.266539, 0.334737, 0.406597, 0.480536, 0.554927, 0.62813, 0.698535, 0.76459, 0.824841, 0.877962, 0.922785, 0.958329, 0.983839], [0.00115168, 0.00700726, 0.0203149, 0.0414026, 0.0677717, 0.0947199, 0.116731, 0.129136, 0.129476, 0.118122, 0.0980077, 0.0735996, 0.0495353, 0.0293896, 0.014964, 0.00625271, 0.00197967, 0.000403515, 3.42927e-5])), OrthoPoly(\"my_op\", 4, [0.396226, 0.453089, 0.473266, 0.482729, 0.487923, 0.491081, 0.493143, 0.494564, 0.495585, 0.496343, 0.496921, 0.497372, 0.497731, 0.498021, 0.498259, 0.498456, 0.498622, 0.498762, 0.498882, 0.498985], [1.0, 0.0379732, 0.0495282, 0.0544964, 0.0570749, 0.0585822, 0.0595388, 0.0601835, 0.0606385, 0.0609715, 0.0612226, 0.0614165, 0.0615694, 0.0616921, 0.061792, 0.0618745, 0.0619433, 0.0620014, 0.0620509, 0.0620933], Measure(\"my_meas\", w, (0, 1), false, Dict{Any,Any}()), Quad(\"golubwelsch\", 19, [0.00878891, 0.0284501, 0.0585213, 0.0983381, 0.147024, 0.203505, 0.266539, 0.334737, 0.406597, 0.480536, 0.554927, 0.62813, 0.698535, 0.76459, 0.824841, 0.877962, 0.922785, 0.958329, 0.983839], [0.00115168, 0.00700726, 0.0203149, 0.0414026, 0.0677717, 0.0947199, 0.116731, 0.129136, 0.129476, 0.118122, 0.0980077, 0.0735996, 0.0495353, 0.0293896, 0.014964, 0.00625271, 0.00197967, 0.000403515, 3.42927e-5]))]), AbstractMeasure[Beta01Measure(##108#109{Float64,Float64}(2.1, 3.2), (0, 1), false, 2.1, 3.2), Measure(\"my_meas\", w, (0, 1), false, Dict{Any,Any}())]), AbstractOrthoPoly[Beta01OrthoPoly(4, [0.396226, 0.453089, 0.473266, 0.482729, 0.487923, 0.491081, 0.493143, 0.494564, 0.495585, 0.496343, 0.496921, 0.497372, 0.497731, 0.498021, 0.498259, 0.498456, 0.498622, 0.498762, 0.498882, 0.498985], [1.0, 0.0379732, 0.0495282, 0.0544964, 0.0570749, 0.0585822, 0.0595388, 0.0601835, 0.0606385, 0.0609715, 0.0612226, 0.0614165, 0.0615694, 0.0616921, 0.061792, 0.0618745, 0.0619433, 0.0620014, 0.0620509, 0.0620933], Beta01Measure(##108#109{Float64,Float64}(2.1, 3.2), (0, 1), false, 2.1, 3.2), Quad(\"golubwelsch\", 19, [0.00878891, 0.0284501, 0.0585213, 0.0983381, 0.147024, 0.203505, 0.266539, 0.334737, 0.406597, 0.480536, 0.554927, 0.62813, 0.698535, 0.76459, 0.824841, 0.877962, 0.922785, 0.958329, 0.983839], [0.00115168, 0.00700726, 0.0203149, 0.0414026, 0.0677717, 0.0947199, 0.116731, 0.129136, 0.129476, 0.118122, 0.0980077, 0.0735996, 0.0495353, 0.0293896, 0.014964, 0.00625271, 0.00197967, 0.000403515, 3.42927e-5])), OrthoPoly(\"my_op\", 4, [0.396226, 0.453089, 0.473266, 0.482729, 0.487923, 0.491081, 0.493143, 0.494564, 0.495585, 0.496343, 0.496921, 0.497372, 0.497731, 0.498021, 0.498259, 0.498456, 0.498622, 0.498762, 0.498882, 0.498985], [1.0, 0.0379732, 0.0495282, 0.0544964, 0.0570749, 0.0585822, 0.0595388, 0.0601835, 0.0606385, 0.0609715, 0.0612226, 0.0614165, 0.0615694, 0.0616921, 0.061792, 0.0618745, 0.0619433, 0.0620014, 0.0620509, 0.0620933], Measure(\"my_meas\", w, (0, 1), false, Dict{Any,Any}()), Quad(\"golubwelsch\", 19, [0.00878891, 0.0284501, 0.0585213, 0.0983381, 0.147024, 0.203505, 0.266539, 0.334737, 0.406597, 0.480536, 0.554927, 0.62813, 0.698535, 0.76459, 0.824841, 0.877962, 0.922785, 0.958329, 0.983839], [0.00115168, 0.00700726, 0.0203149, 0.0414026, 0.0677717, 0.0947199, 0.116731, 0.129136, 0.129476, 0.118122, 0.0980077, 0.0735996, 0.0495353, 0.0293896, 0.014964, 0.00625271, 0.00197967, 0.000403515, 3.42927e-5]))])"
      ]
     },
     "execution_count": 19,
     "metadata": {},
     "output_type": "execute_result"
    }
   ],
   "source": [
    "mop = MultiOrthoPoly([opq,my_opq],deg)"
   ]
  },
  {
   "cell_type": "code",
   "execution_count": 20,
   "metadata": {},
   "outputs": [
    {
     "data": {
      "text/plain": [
       "15-element Array{Float64,1}:\n",
       " 0.9999999999996537    \n",
       " 0.03797318144059441   \n",
       " 0.037973181440551666  \n",
       " 0.0018807430768492354 \n",
       " 0.00144196250871918   \n",
       " 0.0018807430768424916 \n",
       " 0.00010249372143213834\n",
       " 7.141779810028215e-5  \n",
       " 7.141779810010645e-5  \n",
       " 0.0001024937214313095 \n",
       " 5.8498234095518276e-6 \n",
       " 3.892012680461295e-6  \n",
       " 3.5371945211048704e-6 \n",
       " 3.892012680434203e-6  \n",
       " 5.849823409460972e-6  "
      ]
     },
     "execution_count": 20,
     "metadata": {},
     "output_type": "execute_result"
    }
   ],
   "source": [
    "mt2 = Tensor(2,mop)\n",
    "mt3 = Tensor(3,mop)\n",
    "mT2 = [ mt2.get([i,i]) for i=0:dim(mop)-1 ]"
   ]
  },
  {
   "cell_type": "markdown",
   "metadata": {},
   "source": [
    "Notice that `mT2` carries the elements of the 2-dimensional tensors for the univariate bases `opq` and `my_opq`.\n",
    "The encoding is given by the multi-index `mop.ind`"
   ]
  },
  {
   "cell_type": "code",
   "execution_count": 21,
   "metadata": {},
   "outputs": [
    {
     "data": {
      "text/plain": [
       "15×2 Array{Int64,2}:\n",
       " 0  0\n",
       " 1  0\n",
       " 0  1\n",
       " 2  0\n",
       " 1  1\n",
       " 0  2\n",
       " 3  0\n",
       " 2  1\n",
       " 1  2\n",
       " 0  3\n",
       " 4  0\n",
       " 3  1\n",
       " 2  2\n",
       " 1  3\n",
       " 0  4"
      ]
     },
     "execution_count": 21,
     "metadata": {},
     "output_type": "execute_result"
    }
   ],
   "source": [
    "mop.ind"
   ]
  },
  {
   "cell_type": "markdown",
   "metadata": {},
   "source": [
    "To cross-check the results we can distribute the multi-index back to its univariate indices with the help of `findUnivariateIndices`."
   ]
  },
  {
   "cell_type": "code",
   "execution_count": 22,
   "metadata": {},
   "outputs": [
    {
     "data": {
      "text/plain": [
       "5-element Array{Int64,1}:\n",
       "  1\n",
       "  3\n",
       "  6\n",
       " 10\n",
       " 15"
      ]
     },
     "execution_count": 22,
     "metadata": {},
     "output_type": "execute_result"
    }
   ],
   "source": [
    "ind_opq = findUnivariateIndices(1,mop.ind)\n",
    "ind_my_opq = findUnivariateIndices(2,mop.ind)"
   ]
  },
  {
   "cell_type": "code",
   "execution_count": 23,
   "metadata": {},
   "outputs": [
    {
     "name": "stdout",
     "output_type": "stream",
     "text": [
      "mT2[ind_opq] - normsq = [-3.46279e-13, -1.31492e-14, -6.51172e-16, -3.54941e-17, -2.02526e-18]\n",
      "mT2[ind_my_opq] - my_normsq = [0.0, 0.0, 0.0, 0.0, 0.0]\n"
     ]
    }
   ],
   "source": [
    "@show mT2[ind_opq] - normsq\n",
    "@show mT2[ind_my_opq] - my_normsq;"
   ]
  },
  {
   "cell_type": "code",
   "execution_count": null,
   "metadata": {},
   "outputs": [],
   "source": []
  }
 ],
 "metadata": {
  "kernelspec": {
   "display_name": "Julia 1.1.0",
   "language": "julia",
   "name": "julia-1.1"
  },
  "language_info": {
   "file_extension": ".jl",
   "mimetype": "application/julia",
   "name": "julia",
   "version": "1.1.0"
  }
 },
 "nbformat": 4,
 "nbformat_minor": 2
}
