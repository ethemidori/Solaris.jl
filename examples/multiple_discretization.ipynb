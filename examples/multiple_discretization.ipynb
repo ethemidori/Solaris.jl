{
 "cells": [
  {
   "cell_type": "markdown",
   "metadata": {},
   "source": [
    "# Multiple Discretization\n",
    "\n",
    "This tutorial shows how to compute recurrence coefficients for non-trivial weight functions, and how they are being used for quadrature.\n",
    "The method we use is called *multiple discretization*, and follows W. Gautschi's book \"Orthogonal Polynomials: Computation and Approximation\", specifically Section 2.2.4, and Example 2.38.\n",
    "\n",
    "Suppose we have the weight function\n",
    "$$\n",
    "\\forall t \\in [-1,1], \\gamma \\in [0,1]: \\quad w(t;\\gamma) = \\gamma + (1-\\gamma) \\frac{1}{\\sqrt{1-t^2}},\n",
    "$$\n",
    "and we would like to solve\n",
    "$$\n",
    "\\int_{-1}^{1} f(t) w(t;c) \\mathrm{d}t = \\sum_{\\nu=1}^{N} f(\\tau_\\nu) w_\\nu\n",
    "$$\n",
    "by some quadrature rule.\n",
    "We will see that ad-hoc quadrature rules will fail to solve the integral even for the simplest choice $f \\equiv 1$.\n",
    "However, finding the recurrence coefficients of the underlying orthogonal polynomials, and then finding the quadrature rule will be the way to go.\n",
    "\n",
    "Let us first try to solve the integral for $f \\equiv 1$ by Fejer's rule."
   ]
  },
  {
   "cell_type": "code",
   "execution_count": 1,
   "metadata": {},
   "outputs": [
    {
     "name": "stdout",
     "output_type": "stream",
     "text": [
      "Fejer error:\t0.00034489625618583375\twith 1000 nodes"
     ]
    }
   ],
   "source": [
    "using PolyChaos, LinearAlgebra\n",
    "γ = 0.5;\n",
    "int_exact = 1+pi/2; # exact value of the integral\n",
    "function my_w(t::Float64,γ::Float64)\n",
    "    γ + (1-γ)*1/sqrt(1-t^2)\n",
    "end\n",
    "\n",
    "N = 1000;\n",
    "n,w = fejer(N);\n",
    "int_fejer = dot(w,my_w.(n,γ))\n",
    "print(\"Fejer error:\\t$(abs(int_exact-int_fejer))\\twith $N nodes\")"
   ]
  },
  {
   "cell_type": "markdown",
   "metadata": {},
   "source": [
    "Clearly, that is not satisfying.\n",
    "Well, the term $\\gamma$ of the weight $w$ makes us think of Gauss-Legendre integration, so let's try it instead."
   ]
  },
  {
   "cell_type": "code",
   "execution_count": 2,
   "metadata": {},
   "outputs": [
    {
     "name": "stdout",
     "output_type": "stream",
     "text": [
      "Gauss-Legendre error:\t1.5692263158654423\twith 1000 nodes"
     ]
    }
   ],
   "source": [
    "function quad_gaussleg(N::Int,γ::Float64)\n",
    "    a,b=rm_legendre(N)\n",
    "    n,w=golubwelsch(a,b)\n",
    "end\n",
    "n,w = quad_gaussleg(N+1,γ)\n",
    "int_gaussleg = dot(w,γ .+ (1-γ)/sqrt.(1 .- n.^2))\n",
    "print(\"Gauss-Legendre error:\\t$(abs(int_exact-int_gaussleg))\\twith $N nodes\")"
   ]
  },
  {
   "cell_type": "markdown",
   "metadata": {},
   "source": [
    "Even worse!\n",
    "Well, we can factor out $\\frac{1}{\\sqrt{1-t^2}}$, making the integral amenable to a Gauss-Chebyshev rule.\n",
    "So, let's give it anothery try."
   ]
  },
  {
   "cell_type": "code",
   "execution_count": 3,
   "metadata": {},
   "outputs": [
    {
     "name": "stdout",
     "output_type": "stream",
     "text": [
      "Gauss-Chebyshev error:\t4.112336333683686e-7\twith 1000 nodes"
     ]
    }
   ],
   "source": [
    "function quad_gausscheb(N::Int64,γ::Float64)\n",
    "    a,b = rm_chebyshev1(N)\n",
    "    n,w = golubwelsch(a,b)\n",
    "end\n",
    "n,w = quad_gausscheb(N+1,γ)\n",
    "int_gausscheb = dot(w,γ .+ (1-γ)*sqrt.(1 .- n.^2))\n",
    "# int=sum(xw(:,2).*(1+sqrt(1-xw(:,1).^2)))\n",
    "print(\"Gauss-Chebyshev error:\\t$(abs(int_exact-int_gausscheb))\\twith $(length(n)) nodes\")"
   ]
  },
  {
   "cell_type": "markdown",
   "metadata": {},
   "source": [
    "Okay, that's better, but it took us a lot of nodes to get this result.\n",
    "Is there a different way?\n",
    "Indeed, there is.\n",
    "As we have noticed, the weight $w$ has a lot in common with Gauss-Legendre *and* Gauss-Chebyshev.\n",
    "We can decompose the integral as follows\n",
    "$$\n",
    "\\int_{-1}^1 f(t) w(t) \\mathrm{d}t = \\sum_{i=1}^{m} \\int_{-1}^{1} f(t) w_i(t) \\mathrm{d} t,\n",
    "$$\n",
    "with\n",
    "$$\n",
    "\\begin{align*}\n",
    "w_1(t) &= \\gamma \\\\\n",
    "w_2(t) &= (1-\\gamma) \\frac{1}{\\sqrt{1-t^2}}.\n",
    "\\end{align*}\n",
    "$$\n",
    "To the weight $w_1$ we can apply Gauss-Legendre quadrature, to the weight $w_2$ we can apply Gauss-Chebyshev quadrature (with tiny modifications).\n",
    "This *discretization* of the measure can be used in our favor.\n",
    "The function `mcdiscretization()` takes the $m$ discretization rules as an input"
   ]
  },
  {
   "cell_type": "code",
   "execution_count": 4,
   "metadata": {},
   "outputs": [
    {
     "name": "stdout",
     "output_type": "stream",
     "text": [
      "Discretization error:\t4.440892098500626e-16\twith 7 nodes"
     ]
    }
   ],
   "source": [
    "function quad_gaussleg_mod(N::Int,γ::Float64)\n",
    "    n,w = quad_gaussleg(N+1,γ)\n",
    "    return n,γ*w\n",
    "end\n",
    "function quad_gausscheb_mod(N::Int,γ::Float64)\n",
    "            n,w = quad_gausscheb(N+1,γ)\n",
    "    return n,(1-γ)*w\n",
    "end\n",
    "\n",
    "N = 8\n",
    "a,b = mcdiscretization(N,[n->quad_gaussleg_mod(n,γ); n->quad_gausscheb_mod(n,γ)])\n",
    "n,w = golubwelsch(a,b)\n",
    "int_mc = sum(w)\n",
    "print(\"Discretization error:\\t$(abs(int_exact-int_mc))\\twith $(length(n)) nodes\")"
   ]
  },
  {
   "cell_type": "markdown",
   "metadata": {},
   "source": [
    "Et voilà, no error with fewer nodes.\n",
    "(For this example, we'd need in fact just a single node.)\n",
    "\n",
    "The function `mcdiscretization()` is able to construct the recurrence coefficients of the orthogonal polynomials relative to the weight $w$.\n",
    "Let's inspect the values of the recurrence coefficients a little more.\n",
    "For $\\gamma = 0$, we are in the world of Chebyshev polynomials, for $\\gamma = 1$, we enter the realm of Legendre polynomials. And in between?\n",
    "That's exactly where the weight $w$ comes in: it can be thought of as an interpolatory weight, interpolating Legendre polynomials and Chebyshev polynomials.\n",
    "Let's verify this by plotting the recurrence coefficients for several values of $\\gamma$.\n",
    "\n"
   ]
  },
  {
   "cell_type": "code",
   "execution_count": 5,
   "metadata": {},
   "outputs": [
    {
     "data": {
      "text/plain": [
       "8-element Array{Float64,1}:\n",
       " -1.7763568394002505e-15\n",
       " -3.3306690738754696e-16\n",
       "  3.3306690738754696e-16\n",
       " -8.326672684688674e-17 \n",
       "  2.220446049250313e-16 \n",
       "  3.3306690738754696e-16\n",
       " -8.326672684688674e-17 \n",
       "  1.6653345369377348e-16"
      ]
     },
     "execution_count": 5,
     "metadata": {},
     "output_type": "execute_result"
    }
   ],
   "source": [
    "Γ = 0:0.1:1;\n",
    "ab = [ mcdiscretization(N,[n->quad_gaussleg_mod(n,gam); n->quad_gausscheb_mod(n,gam)]) for gam in Γ ];\n",
    "bb = hcat([ ab[i][2] for i=1:length(Γ)]...);\n",
    "b_leg = rm_legendre(N)[2];\n",
    "b_cheb = rm_chebyshev1(N)[2]\n",
    "bb[:,1]-b_cheb"
   ]
  },
  {
   "cell_type": "code",
   "execution_count": 6,
   "metadata": {},
   "outputs": [
    {
     "data": {
      "text/plain": [
       "8-element Array{Float64,1}:\n",
       "  8.881784197001252e-16 \n",
       " -4.440892098500626e-16 \n",
       "  1.1102230246251565e-16\n",
       " -4.440892098500626e-16 \n",
       "  2.7755575615628914e-16\n",
       " -1.6653345369377348e-16\n",
       "  4.440892098500626e-16 \n",
       " -6.661338147750939e-16 "
      ]
     },
     "execution_count": 6,
     "metadata": {},
     "output_type": "execute_result"
    }
   ],
   "source": [
    "bb[:,end]-b_leg"
   ]
  },
  {
   "cell_type": "markdown",
   "metadata": {},
   "source": [
    "Let's plot these values to get a better feeling."
   ]
  },
  {
   "cell_type": "code",
   "execution_count": 7,
   "metadata": {},
   "outputs": [
    {
     "data": {
      "image/svg+xml": [
       "<?xml version=\"1.0\" encoding=\"utf-8\"?>\n",
       "<svg xmlns=\"http://www.w3.org/2000/svg\" xmlns:xlink=\"http://www.w3.org/1999/xlink\" width=\"600\" height=\"400\" viewBox=\"0 0 2400 1600\">\n",
       "<defs>\n",
       "  <clipPath id=\"clip9300\">\n",
       "    <rect x=\"0\" y=\"0\" width=\"2400\" height=\"1600\"/>\n",
       "  </clipPath>\n",
       "</defs>\n",
       "<polygon clip-path=\"url(#clip9300)\" points=\"\n",
       "0,1600 2400,1600 2400,0 0,0 \n",
       "  \" fill=\"#ffffff\" fill-rule=\"evenodd\" fill-opacity=\"1\"/>\n",
       "<defs>\n",
       "  <clipPath id=\"clip9301\">\n",
       "    <rect x=\"480\" y=\"0\" width=\"1681\" height=\"1600\"/>\n",
       "  </clipPath>\n",
       "</defs>\n",
       "<polygon clip-path=\"url(#clip9300)\" points=\"\n",
       "339.018,1442.93 2352.76,1442.93 2352.76,121.675 339.018,121.675 \n",
       "  \" fill=\"#ffffff\" fill-rule=\"evenodd\" fill-opacity=\"1\"/>\n",
       "<defs>\n",
       "  <clipPath id=\"clip9302\">\n",
       "    <rect x=\"339\" y=\"121\" width=\"2015\" height=\"1322\"/>\n",
       "  </clipPath>\n",
       "</defs>\n",
       "<polyline clip-path=\"url(#clip9302)\" style=\"stroke:#000000; stroke-width:2; stroke-opacity:0.1; fill:none\" points=\"\n",
       "  396.01,1442.93 396.01,121.675 \n",
       "  \"/>\n",
       "<polyline clip-path=\"url(#clip9302)\" style=\"stroke:#000000; stroke-width:2; stroke-opacity:0.1; fill:none\" points=\"\n",
       "  870.949,1442.93 870.949,121.675 \n",
       "  \"/>\n",
       "<polyline clip-path=\"url(#clip9302)\" style=\"stroke:#000000; stroke-width:2; stroke-opacity:0.1; fill:none\" points=\"\n",
       "  1345.89,1442.93 1345.89,121.675 \n",
       "  \"/>\n",
       "<polyline clip-path=\"url(#clip9302)\" style=\"stroke:#000000; stroke-width:2; stroke-opacity:0.1; fill:none\" points=\"\n",
       "  1820.83,1442.93 1820.83,121.675 \n",
       "  \"/>\n",
       "<polyline clip-path=\"url(#clip9302)\" style=\"stroke:#000000; stroke-width:2; stroke-opacity:0.1; fill:none\" points=\"\n",
       "  2295.76,1442.93 2295.76,121.675 \n",
       "  \"/>\n",
       "<polyline clip-path=\"url(#clip9302)\" style=\"stroke:#000000; stroke-width:2; stroke-opacity:0.1; fill:none\" points=\"\n",
       "  339.018,1289.8 2352.76,1289.8 \n",
       "  \"/>\n",
       "<polyline clip-path=\"url(#clip9302)\" style=\"stroke:#000000; stroke-width:2; stroke-opacity:0.1; fill:none\" points=\"\n",
       "  339.018,1006.31 2352.76,1006.31 \n",
       "  \"/>\n",
       "<polyline clip-path=\"url(#clip9302)\" style=\"stroke:#000000; stroke-width:2; stroke-opacity:0.1; fill:none\" points=\"\n",
       "  339.018,722.819 2352.76,722.819 \n",
       "  \"/>\n",
       "<polyline clip-path=\"url(#clip9302)\" style=\"stroke:#000000; stroke-width:2; stroke-opacity:0.1; fill:none\" points=\"\n",
       "  339.018,439.328 2352.76,439.328 \n",
       "  \"/>\n",
       "<polyline clip-path=\"url(#clip9302)\" style=\"stroke:#000000; stroke-width:2; stroke-opacity:0.1; fill:none\" points=\"\n",
       "  339.018,155.837 2352.76,155.837 \n",
       "  \"/>\n",
       "<polyline clip-path=\"url(#clip9300)\" style=\"stroke:#000000; stroke-width:4; stroke-opacity:1; fill:none\" points=\"\n",
       "  339.018,1442.93 2352.76,1442.93 \n",
       "  \"/>\n",
       "<polyline clip-path=\"url(#clip9300)\" style=\"stroke:#000000; stroke-width:4; stroke-opacity:1; fill:none\" points=\"\n",
       "  339.018,1442.93 339.018,121.675 \n",
       "  \"/>\n",
       "<polyline clip-path=\"url(#clip9300)\" style=\"stroke:#000000; stroke-width:4; stroke-opacity:1; fill:none\" points=\"\n",
       "  396.01,1442.93 396.01,1423.11 \n",
       "  \"/>\n",
       "<polyline clip-path=\"url(#clip9300)\" style=\"stroke:#000000; stroke-width:4; stroke-opacity:1; fill:none\" points=\"\n",
       "  870.949,1442.93 870.949,1423.11 \n",
       "  \"/>\n",
       "<polyline clip-path=\"url(#clip9300)\" style=\"stroke:#000000; stroke-width:4; stroke-opacity:1; fill:none\" points=\"\n",
       "  1345.89,1442.93 1345.89,1423.11 \n",
       "  \"/>\n",
       "<polyline clip-path=\"url(#clip9300)\" style=\"stroke:#000000; stroke-width:4; stroke-opacity:1; fill:none\" points=\"\n",
       "  1820.83,1442.93 1820.83,1423.11 \n",
       "  \"/>\n",
       "<polyline clip-path=\"url(#clip9300)\" style=\"stroke:#000000; stroke-width:4; stroke-opacity:1; fill:none\" points=\"\n",
       "  2295.76,1442.93 2295.76,1423.11 \n",
       "  \"/>\n",
       "<polyline clip-path=\"url(#clip9300)\" style=\"stroke:#000000; stroke-width:4; stroke-opacity:1; fill:none\" points=\"\n",
       "  339.018,1289.8 369.224,1289.8 \n",
       "  \"/>\n",
       "<polyline clip-path=\"url(#clip9300)\" style=\"stroke:#000000; stroke-width:4; stroke-opacity:1; fill:none\" points=\"\n",
       "  339.018,1006.31 369.224,1006.31 \n",
       "  \"/>\n",
       "<polyline clip-path=\"url(#clip9300)\" style=\"stroke:#000000; stroke-width:4; stroke-opacity:1; fill:none\" points=\"\n",
       "  339.018,722.819 369.224,722.819 \n",
       "  \"/>\n",
       "<polyline clip-path=\"url(#clip9300)\" style=\"stroke:#000000; stroke-width:4; stroke-opacity:1; fill:none\" points=\"\n",
       "  339.018,439.328 369.224,439.328 \n",
       "  \"/>\n",
       "<polyline clip-path=\"url(#clip9300)\" style=\"stroke:#000000; stroke-width:4; stroke-opacity:1; fill:none\" points=\"\n",
       "  339.018,155.837 369.224,155.837 \n",
       "  \"/>\n",
       "<g clip-path=\"url(#clip9300)\">\n",
       "<text style=\"fill:#000000; fill-opacity:1; font-family:Arial,Helvetica Neue,Helvetica,sans-serif; font-size:48px; text-anchor:middle;\" transform=\"rotate(0, 396.01, 1496.93)\" x=\"396.01\" y=\"1496.93\">0.00</text>\n",
       "</g>\n",
       "<g clip-path=\"url(#clip9300)\">\n",
       "<text style=\"fill:#000000; fill-opacity:1; font-family:Arial,Helvetica Neue,Helvetica,sans-serif; font-size:48px; text-anchor:middle;\" transform=\"rotate(0, 870.949, 1496.93)\" x=\"870.949\" y=\"1496.93\">0.25</text>\n",
       "</g>\n",
       "<g clip-path=\"url(#clip9300)\">\n",
       "<text style=\"fill:#000000; fill-opacity:1; font-family:Arial,Helvetica Neue,Helvetica,sans-serif; font-size:48px; text-anchor:middle;\" transform=\"rotate(0, 1345.89, 1496.93)\" x=\"1345.89\" y=\"1496.93\">0.50</text>\n",
       "</g>\n",
       "<g clip-path=\"url(#clip9300)\">\n",
       "<text style=\"fill:#000000; fill-opacity:1; font-family:Arial,Helvetica Neue,Helvetica,sans-serif; font-size:48px; text-anchor:middle;\" transform=\"rotate(0, 1820.83, 1496.93)\" x=\"1820.83\" y=\"1496.93\">0.75</text>\n",
       "</g>\n",
       "<g clip-path=\"url(#clip9300)\">\n",
       "<text style=\"fill:#000000; fill-opacity:1; font-family:Arial,Helvetica Neue,Helvetica,sans-serif; font-size:48px; text-anchor:middle;\" transform=\"rotate(0, 2295.76, 1496.93)\" x=\"2295.76\" y=\"1496.93\">1.00</text>\n",
       "</g>\n",
       "<g clip-path=\"url(#clip9300)\">\n",
       "<text style=\"fill:#000000; fill-opacity:1; font-family:Arial,Helvetica Neue,Helvetica,sans-serif; font-size:48px; text-anchor:start;\" transform=\"rotate(0, 151.676, 1313.53)\" x=\"151.676\" y=\"1313.53\">10</text>\n",
       "</g>\n",
       "<g clip-path=\"url(#clip9300)\">\n",
       "<text style=\"fill:#000000; fill-opacity:1; font-family:Arial,Helvetica Neue,Helvetica,sans-serif; font-size:38px; text-anchor:start;\" transform=\"rotate(0, 205.201, 1286.12)\" x=\"205.201\" y=\"1286.12\">-</text>\n",
       "</g>\n",
       "<g clip-path=\"url(#clip9300)\">\n",
       "<text style=\"fill:#000000; fill-opacity:1; font-family:Arial,Helvetica Neue,Helvetica,sans-serif; font-size:38px; text-anchor:start;\" transform=\"rotate(0, 228.04, 1286.12)\" x=\"228.04\" y=\"1286.12\">0.50 </text>\n",
       "</g>\n",
       "<g clip-path=\"url(#clip9300)\">\n",
       "<text style=\"fill:#000000; fill-opacity:1; font-family:Arial,Helvetica Neue,Helvetica,sans-serif; font-size:48px; text-anchor:start;\" transform=\"rotate(0, 151.676, 1030.04)\" x=\"151.676\" y=\"1030.04\">10</text>\n",
       "</g>\n",
       "<g clip-path=\"url(#clip9300)\">\n",
       "<text style=\"fill:#000000; fill-opacity:1; font-family:Arial,Helvetica Neue,Helvetica,sans-serif; font-size:38px; text-anchor:start;\" transform=\"rotate(0, 205.201, 1002.63)\" x=\"205.201\" y=\"1002.63\">-</text>\n",
       "</g>\n",
       "<g clip-path=\"url(#clip9300)\">\n",
       "<text style=\"fill:#000000; fill-opacity:1; font-family:Arial,Helvetica Neue,Helvetica,sans-serif; font-size:38px; text-anchor:start;\" transform=\"rotate(0, 228.04, 1002.63)\" x=\"228.04\" y=\"1002.63\">0.25 </text>\n",
       "</g>\n",
       "<g clip-path=\"url(#clip9300)\">\n",
       "<text style=\"fill:#000000; fill-opacity:1; font-family:Arial,Helvetica Neue,Helvetica,sans-serif; font-size:48px; text-anchor:start;\" transform=\"rotate(0, 174.516, 746.546)\" x=\"174.516\" y=\"746.546\">10</text>\n",
       "</g>\n",
       "<g clip-path=\"url(#clip9300)\">\n",
       "<text style=\"fill:#000000; fill-opacity:1; font-family:Arial,Helvetica Neue,Helvetica,sans-serif; font-size:38px; text-anchor:start;\" transform=\"rotate(0, 228.04, 719.136)\" x=\"228.04\" y=\"719.136\">0.00 </text>\n",
       "</g>\n",
       "<g clip-path=\"url(#clip9300)\">\n",
       "<text style=\"fill:#000000; fill-opacity:1; font-family:Arial,Helvetica Neue,Helvetica,sans-serif; font-size:48px; text-anchor:start;\" transform=\"rotate(0, 174.516, 463.056)\" x=\"174.516\" y=\"463.056\">10</text>\n",
       "</g>\n",
       "<g clip-path=\"url(#clip9300)\">\n",
       "<text style=\"fill:#000000; fill-opacity:1; font-family:Arial,Helvetica Neue,Helvetica,sans-serif; font-size:38px; text-anchor:start;\" transform=\"rotate(0, 228.04, 435.645)\" x=\"228.04\" y=\"435.645\">0.25 </text>\n",
       "</g>\n",
       "<g clip-path=\"url(#clip9300)\">\n",
       "<text style=\"fill:#000000; fill-opacity:1; font-family:Arial,Helvetica Neue,Helvetica,sans-serif; font-size:48px; text-anchor:start;\" transform=\"rotate(0, 174.516, 179.565)\" x=\"174.516\" y=\"179.565\">10</text>\n",
       "</g>\n",
       "<g clip-path=\"url(#clip9300)\">\n",
       "<text style=\"fill:#000000; fill-opacity:1; font-family:Arial,Helvetica Neue,Helvetica,sans-serif; font-size:38px; text-anchor:start;\" transform=\"rotate(0, 228.04, 152.154)\" x=\"228.04\" y=\"152.154\">0.50 </text>\n",
       "</g>\n",
       "<g clip-path=\"url(#clip9300)\">\n",
       "<text style=\"fill:#000000; fill-opacity:1; font-family:Arial,Helvetica Neue,Helvetica,sans-serif; font-size:84px; text-anchor:middle;\" transform=\"rotate(0, 1345.89, 73.2)\" x=\"1345.89\" y=\"73.2\">N=8 Recurrence Coefficients Interpolating from Chebyshev to Legendre</text>\n",
       "</g>\n",
       "<g clip-path=\"url(#clip9300)\">\n",
       "<image width=\"35\" height=\"44\" xlink:href=\"data:image/png;base64,\n",
       "iVBORw0KGgoAAAANSUhEUgAAACMAAAAsCAYAAADvjwGMAAACeElEQVRYhc2Y7bGqMBCGX+7cAqIl\n",
       "YAcZS6CEeEqgBGughNhCxgrQEqIVACVEOtjzwxsGkI9Ek3PuzuwfMPHJvrubkISI4GJ1XVPTNLjf\n",
       "7wCANE1xOBwSp8GuRkSLLqWkNE0JwKTneU7GGFqbZ87LsiQAVFXV/I+01sQYm4XoO2OMqqp6C4hz\n",
       "TmmaEhFNR0ZK6QQxBvKNkI2KlHIa5h0Q61mWecFwzokx1o0ZvFRKzf6JlJKUUqSUIiklCSEmZbSr\n",
       "dI1KURSvMMaYwaSccyrLcnViKeUAyurvEhUAA2m7l1mWdRP2aV3cGDOoOKXU4nitdVeJ/ecv8rhE\n",
       "Y8qrquoitJY7QoiunF9g7Kp8IzK34nH4x9AASAjx8r6bgHP+EchY7rlEzvOcAJDW+hXmeDx+JM9c\n",
       "dOakWlr4oAOGciv7+LntYXMJDmPMR3vLlNtoj6VYW3gwgCmp+nljny0VSRQYmxv9PmITd0mFaDCM\n",
       "sUGiuvSfP84HH0/b7/do2xYAcDqdCADyPF8eFCsydiO1idvfnX88MgDQti1utxvd73d8fX2t/j4a\n",
       "zHa7BQAURQHAQSIgnky218DjWBFVJmtOUUFEmWwl/Rcw1rIsw2azcfq+igZjjAHgHhUA8RJ46oy7\n",
       "5sm/Vh3ckiQhxhgej4fzJ3AUmS6XCwHPfPGxKDDX6xXA83Lg12HO5zOA52bpZaETt/8x6HsZEDwy\n",
       "ViIA2O12Xvc3wWGUUgAAzrn32GiR8a2k4DB1XZPdk34dxlYR8EYlhYbRWgN49hfXzTEajL0JfUei\n",
       "4DBN03wEE6zZuVyH/FjTs/nic5gaWzAYmy9eh6mR/Q0FI4QAgI+u8L8ByXEH/G0ncjUAAAAASUVO\n",
       "RK5CYII=\n",
       "\" transform=\"translate(1328, 1519)\"/>\n",
       "</g>\n",
       "<g clip-path=\"url(#clip9300)\">\n",
       "<image width=\"59\" height=\"37\" xlink:href=\"data:image/png;base64,\n",
       "iVBORw0KGgoAAAANSUhEUgAAADsAAAAlCAYAAAD8+ZFYAAADVklEQVRogd1Y7XGjMBB9TgUyJSgd\n",
       "KC5B6YBQgtKBkhJwB9glMK6AuASZCjAlyHSw9+NODCgmNgLn4uzMjrHHLPvYp/1aEBGG5HA4kLUW\n",
       "TdOAc46np6fF4J/vQYiop8YYiuOYAJxVKSUZY8i/7x6090VrPQjS1ziOyVp7V6AXjsYvLy+02+1G\n",
       "M8MYcxW9j8cjlWWJuq5R1zUYY4iiCJzzbzsiCyLCer2m9/d3AABjDEmStE5Ya1sH9/s9mqb5ZKQo\n",
       "Cjw/P591drPZ0Ha7RVmWXzrCOUccx0iS5HbArbUtNZVSF2mZ5zlJKT/RuiiK3r3GGOKcX30s8A1H\n",
       "BGmatg8Yc6MPhjHWOphlWRBIX9M0nRXwQghBZVnCWovlcjmaPq+vr7TdbgEAUkoopZAkSe8/nHMI\n",
       "IcA5RxRFcOXMWgt3jodEKYXNZjMPrRljJISY9AaVUoN0rKrqom1rLeV5PljypJSzRBgIoPA59c9x\n",
       "nudBNq21lKYpMcZ69q7JJxfBMsZIaz3ZUJ7nrWNz2LPWks+YLMsm2QXnfBaadB2beiy66ie7KVka\n",
       "cRwT53yycy4zu885S0eXNVPo3L65axLJV8oYI6UUOXtz98+uRE7xtW0qpiYp/KuLxpizTcYcKoSY\n",
       "FN2H5XK5SNMUu90Oh8NheN67vpRNNTEoeZ73PsfKAwC8vb0tOOeQUuJ0OgUDtta211EUhZoZlMfH\n",
       "x0Ucx2iaBh8fH6P9fHAXRVEAAFarVRBgIQTKsmwb/ltF2A0sIRNaj9PGGGKMEed8dBJws7BrBuY+\n",
       "r10NLZeffnAJBiOTjLW2LTtzN/C+SimDyuXZH6uqIpf5xo5b37G90FoTY2wesE67tU1r/WPWMM6v\n",
       "WcES/aV1t8nXWk9uQOaI7Gw0vgY055zSNP0vwIUQQU3Q6AedW7UKIUhrfZOuydeqqoKT4KQHu4Hb\n",
       "nz1vCV5KGZScJoP133iWZTcF78bI0NJ2U7rNBd4YQ1OHAKLOkvzWcjweab/fw2l3/yyEwGq1ghCi\n",
       "7anruoYxpreQ01pjvV6HL99uFdkpkfdVKTVL1v+2yF6SryLvJjKnIStfAD8HrC9d8P5uORT8jwXr\n",
       "y+l06kU+BPzdgPUlBPzdgvXlEvg4jn8PWF988Nba3wv2nPwB58P2U6eFpJEAAAAASUVORK5CYII=\n",
       "\" transform=\"translate(32, 764)\"/>\n",
       "</g>\n",
       "<polyline clip-path=\"url(#clip9302)\" style=\"stroke:#009af9; stroke-width:12; stroke-opacity:1; fill:none\" points=\"\n",
       "  396.01,159.069 585.986,177.298 775.961,196.227 965.936,215.914 1155.91,236.42 1345.89,257.817 1535.86,280.186 1725.84,303.62 1915.81,328.225 2105.79,354.125 \n",
       "  2295.76,381.462 \n",
       "  \"/>\n",
       "<polyline clip-path=\"url(#clip9302)\" style=\"stroke:#e26f46; stroke-width:12; stroke-opacity:1; fill:none\" points=\"\n",
       "  396.01,1064.18 585.986,1075.14 775.961,1087.25 965.936,1100.68 1155.91,1115.69 1345.89,1132.57 1535.86,1151.7 1725.84,1173.59 1915.81,1198.9 2105.79,1228.56 \n",
       "  2295.76,1263.86 \n",
       "  \"/>\n",
       "<polyline clip-path=\"url(#clip9302)\" style=\"stroke:#3da44d; stroke-width:12; stroke-opacity:1; fill:none\" points=\"\n",
       "  396.01,1405.53 585.986,1397.22 775.961,1389.08 965.936,1381.24 1155.91,1373.91 1345.89,1367.38 1535.86,1362.07 1725.84,1358.64 1915.81,1358.1 2105.79,1362.15 \n",
       "  2295.76,1373.75 \n",
       "  \"/>\n",
       "<polyline clip-path=\"url(#clip9302)\" style=\"stroke:#c271d2; stroke-width:12; stroke-opacity:1; fill:none\" points=\"\n",
       "  396.01,1405.53 585.986,1404.16 775.961,1402.42 965.936,1400.28 1155.91,1397.74 1345.89,1394.85 1535.86,1391.71 1725.84,1388.62 1915.81,1386.23 2105.79,1386.04 \n",
       "  2295.76,1391.66 \n",
       "  \"/>\n",
       "<polyline clip-path=\"url(#clip9302)\" style=\"stroke:#ac8d18; stroke-width:12; stroke-opacity:1; fill:none\" points=\"\n",
       "  396.01,1405.53 585.986,1405.07 775.961,1404.47 965.936,1403.67 1155.91,1402.64 1345.89,1401.31 1535.86,1399.66 1725.84,1397.72 1915.81,1395.73 2105.79,1394.63 \n",
       "  2295.76,1397.78 \n",
       "  \"/>\n",
       "<polyline clip-path=\"url(#clip9302)\" style=\"stroke:#00a9ad; stroke-width:12; stroke-opacity:1; fill:none\" points=\"\n",
       "  396.01,1405.53 585.986,1405.32 775.961,1405.05 965.936,1404.68 1155.91,1404.17 1345.89,1403.49 1535.86,1402.57 1725.84,1401.35 1915.81,1399.89 2105.79,1398.69 \n",
       "  2295.76,1400.58 \n",
       "  \"/>\n",
       "<polyline clip-path=\"url(#clip9302)\" style=\"stroke:#ed5d92; stroke-width:12; stroke-opacity:1; fill:none\" points=\"\n",
       "  396.01,1405.53 585.986,1405.42 775.961,1405.27 965.936,1405.07 1155.91,1404.79 1345.89,1404.4 1535.86,1403.85 1725.84,1403.07 1915.81,1402.01 2105.79,1400.91 \n",
       "  2295.76,1402.1 \n",
       "  \"/>\n",
       "<polyline clip-path=\"url(#clip9302)\" style=\"stroke:#c68125; stroke-width:12; stroke-opacity:1; fill:none\" points=\"\n",
       "  396.01,1405.53 585.986,1405.47 775.961,1405.38 965.936,1405.26 1155.91,1405.09 1345.89,1404.85 1535.86,1404.5 1725.84,1403.97 1915.81,1403.2 2105.79,1402.26 \n",
       "  2295.76,1403.01 \n",
       "  \"/>\n",
       "<line clip-path=\"url(#clip9302)\" x1=\"396.01\" y1=\"159.069\" x2=\"376.01\" y2=\"179.069\" style=\"stroke:#000000; stroke-width:4; stroke-opacity:1\"/>\n",
       "<line clip-path=\"url(#clip9302)\" x1=\"396.01\" y1=\"159.069\" x2=\"376.01\" y2=\"139.069\" style=\"stroke:#000000; stroke-width:4; stroke-opacity:1\"/>\n",
       "<line clip-path=\"url(#clip9302)\" x1=\"396.01\" y1=\"159.069\" x2=\"416.01\" y2=\"139.069\" style=\"stroke:#000000; stroke-width:4; stroke-opacity:1\"/>\n",
       "<line clip-path=\"url(#clip9302)\" x1=\"396.01\" y1=\"159.069\" x2=\"416.01\" y2=\"179.069\" style=\"stroke:#000000; stroke-width:4; stroke-opacity:1\"/>\n",
       "<line clip-path=\"url(#clip9302)\" x1=\"396.01\" y1=\"1064.18\" x2=\"376.01\" y2=\"1084.18\" style=\"stroke:#000000; stroke-width:4; stroke-opacity:1\"/>\n",
       "<line clip-path=\"url(#clip9302)\" x1=\"396.01\" y1=\"1064.18\" x2=\"376.01\" y2=\"1044.18\" style=\"stroke:#000000; stroke-width:4; stroke-opacity:1\"/>\n",
       "<line clip-path=\"url(#clip9302)\" x1=\"396.01\" y1=\"1064.18\" x2=\"416.01\" y2=\"1044.18\" style=\"stroke:#000000; stroke-width:4; stroke-opacity:1\"/>\n",
       "<line clip-path=\"url(#clip9302)\" x1=\"396.01\" y1=\"1064.18\" x2=\"416.01\" y2=\"1084.18\" style=\"stroke:#000000; stroke-width:4; stroke-opacity:1\"/>\n",
       "<line clip-path=\"url(#clip9302)\" x1=\"396.01\" y1=\"1405.53\" x2=\"376.01\" y2=\"1425.53\" style=\"stroke:#000000; stroke-width:4; stroke-opacity:1\"/>\n",
       "<line clip-path=\"url(#clip9302)\" x1=\"396.01\" y1=\"1405.53\" x2=\"376.01\" y2=\"1385.53\" style=\"stroke:#000000; stroke-width:4; stroke-opacity:1\"/>\n",
       "<line clip-path=\"url(#clip9302)\" x1=\"396.01\" y1=\"1405.53\" x2=\"416.01\" y2=\"1385.53\" style=\"stroke:#000000; stroke-width:4; stroke-opacity:1\"/>\n",
       "<line clip-path=\"url(#clip9302)\" x1=\"396.01\" y1=\"1405.53\" x2=\"416.01\" y2=\"1425.53\" style=\"stroke:#000000; stroke-width:4; stroke-opacity:1\"/>\n",
       "<line clip-path=\"url(#clip9302)\" x1=\"396.01\" y1=\"1405.53\" x2=\"376.01\" y2=\"1425.53\" style=\"stroke:#000000; stroke-width:4; stroke-opacity:1\"/>\n",
       "<line clip-path=\"url(#clip9302)\" x1=\"396.01\" y1=\"1405.53\" x2=\"376.01\" y2=\"1385.53\" style=\"stroke:#000000; stroke-width:4; stroke-opacity:1\"/>\n",
       "<line clip-path=\"url(#clip9302)\" x1=\"396.01\" y1=\"1405.53\" x2=\"416.01\" y2=\"1385.53\" style=\"stroke:#000000; stroke-width:4; stroke-opacity:1\"/>\n",
       "<line clip-path=\"url(#clip9302)\" x1=\"396.01\" y1=\"1405.53\" x2=\"416.01\" y2=\"1425.53\" style=\"stroke:#000000; stroke-width:4; stroke-opacity:1\"/>\n",
       "<line clip-path=\"url(#clip9302)\" x1=\"396.01\" y1=\"1405.53\" x2=\"376.01\" y2=\"1425.53\" style=\"stroke:#000000; stroke-width:4; stroke-opacity:1\"/>\n",
       "<line clip-path=\"url(#clip9302)\" x1=\"396.01\" y1=\"1405.53\" x2=\"376.01\" y2=\"1385.53\" style=\"stroke:#000000; stroke-width:4; stroke-opacity:1\"/>\n",
       "<line clip-path=\"url(#clip9302)\" x1=\"396.01\" y1=\"1405.53\" x2=\"416.01\" y2=\"1385.53\" style=\"stroke:#000000; stroke-width:4; stroke-opacity:1\"/>\n",
       "<line clip-path=\"url(#clip9302)\" x1=\"396.01\" y1=\"1405.53\" x2=\"416.01\" y2=\"1425.53\" style=\"stroke:#000000; stroke-width:4; stroke-opacity:1\"/>\n",
       "<line clip-path=\"url(#clip9302)\" x1=\"396.01\" y1=\"1405.53\" x2=\"376.01\" y2=\"1425.53\" style=\"stroke:#000000; stroke-width:4; stroke-opacity:1\"/>\n",
       "<line clip-path=\"url(#clip9302)\" x1=\"396.01\" y1=\"1405.53\" x2=\"376.01\" y2=\"1385.53\" style=\"stroke:#000000; stroke-width:4; stroke-opacity:1\"/>\n",
       "<line clip-path=\"url(#clip9302)\" x1=\"396.01\" y1=\"1405.53\" x2=\"416.01\" y2=\"1385.53\" style=\"stroke:#000000; stroke-width:4; stroke-opacity:1\"/>\n",
       "<line clip-path=\"url(#clip9302)\" x1=\"396.01\" y1=\"1405.53\" x2=\"416.01\" y2=\"1425.53\" style=\"stroke:#000000; stroke-width:4; stroke-opacity:1\"/>\n",
       "<line clip-path=\"url(#clip9302)\" x1=\"396.01\" y1=\"1405.53\" x2=\"376.01\" y2=\"1425.53\" style=\"stroke:#000000; stroke-width:4; stroke-opacity:1\"/>\n",
       "<line clip-path=\"url(#clip9302)\" x1=\"396.01\" y1=\"1405.53\" x2=\"376.01\" y2=\"1385.53\" style=\"stroke:#000000; stroke-width:4; stroke-opacity:1\"/>\n",
       "<line clip-path=\"url(#clip9302)\" x1=\"396.01\" y1=\"1405.53\" x2=\"416.01\" y2=\"1385.53\" style=\"stroke:#000000; stroke-width:4; stroke-opacity:1\"/>\n",
       "<line clip-path=\"url(#clip9302)\" x1=\"396.01\" y1=\"1405.53\" x2=\"416.01\" y2=\"1425.53\" style=\"stroke:#000000; stroke-width:4; stroke-opacity:1\"/>\n",
       "<line clip-path=\"url(#clip9302)\" x1=\"396.01\" y1=\"1405.53\" x2=\"376.01\" y2=\"1425.53\" style=\"stroke:#000000; stroke-width:4; stroke-opacity:1\"/>\n",
       "<line clip-path=\"url(#clip9302)\" x1=\"396.01\" y1=\"1405.53\" x2=\"376.01\" y2=\"1385.53\" style=\"stroke:#000000; stroke-width:4; stroke-opacity:1\"/>\n",
       "<line clip-path=\"url(#clip9302)\" x1=\"396.01\" y1=\"1405.53\" x2=\"416.01\" y2=\"1385.53\" style=\"stroke:#000000; stroke-width:4; stroke-opacity:1\"/>\n",
       "<line clip-path=\"url(#clip9302)\" x1=\"396.01\" y1=\"1405.53\" x2=\"416.01\" y2=\"1425.53\" style=\"stroke:#000000; stroke-width:4; stroke-opacity:1\"/>\n",
       "<circle clip-path=\"url(#clip9302)\" style=\"fill:#000000; stroke:none; fill-opacity:1\" cx=\"2295.76\" cy=\"381.462\" r=\"18\"/>\n",
       "<circle clip-path=\"url(#clip9302)\" style=\"fill:#8e971d; stroke:none; fill-opacity:1\" cx=\"2295.76\" cy=\"381.462\" r=\"14\"/>\n",
       "<circle clip-path=\"url(#clip9302)\" style=\"fill:#000000; stroke:none; fill-opacity:1\" cx=\"2295.76\" cy=\"1263.86\" r=\"18\"/>\n",
       "<circle clip-path=\"url(#clip9302)\" style=\"fill:#8e971d; stroke:none; fill-opacity:1\" cx=\"2295.76\" cy=\"1263.86\" r=\"14\"/>\n",
       "<circle clip-path=\"url(#clip9302)\" style=\"fill:#000000; stroke:none; fill-opacity:1\" cx=\"2295.76\" cy=\"1373.75\" r=\"18\"/>\n",
       "<circle clip-path=\"url(#clip9302)\" style=\"fill:#8e971d; stroke:none; fill-opacity:1\" cx=\"2295.76\" cy=\"1373.75\" r=\"14\"/>\n",
       "<circle clip-path=\"url(#clip9302)\" style=\"fill:#000000; stroke:none; fill-opacity:1\" cx=\"2295.76\" cy=\"1391.66\" r=\"18\"/>\n",
       "<circle clip-path=\"url(#clip9302)\" style=\"fill:#8e971d; stroke:none; fill-opacity:1\" cx=\"2295.76\" cy=\"1391.66\" r=\"14\"/>\n",
       "<circle clip-path=\"url(#clip9302)\" style=\"fill:#000000; stroke:none; fill-opacity:1\" cx=\"2295.76\" cy=\"1397.78\" r=\"18\"/>\n",
       "<circle clip-path=\"url(#clip9302)\" style=\"fill:#8e971d; stroke:none; fill-opacity:1\" cx=\"2295.76\" cy=\"1397.78\" r=\"14\"/>\n",
       "<circle clip-path=\"url(#clip9302)\" style=\"fill:#000000; stroke:none; fill-opacity:1\" cx=\"2295.76\" cy=\"1400.58\" r=\"18\"/>\n",
       "<circle clip-path=\"url(#clip9302)\" style=\"fill:#8e971d; stroke:none; fill-opacity:1\" cx=\"2295.76\" cy=\"1400.58\" r=\"14\"/>\n",
       "<circle clip-path=\"url(#clip9302)\" style=\"fill:#000000; stroke:none; fill-opacity:1\" cx=\"2295.76\" cy=\"1402.1\" r=\"18\"/>\n",
       "<circle clip-path=\"url(#clip9302)\" style=\"fill:#8e971d; stroke:none; fill-opacity:1\" cx=\"2295.76\" cy=\"1402.1\" r=\"14\"/>\n",
       "<circle clip-path=\"url(#clip9302)\" style=\"fill:#000000; stroke:none; fill-opacity:1\" cx=\"2295.76\" cy=\"1403.01\" r=\"18\"/>\n",
       "<circle clip-path=\"url(#clip9302)\" style=\"fill:#8e971d; stroke:none; fill-opacity:1\" cx=\"2295.76\" cy=\"1403.01\" r=\"14\"/>\n",
       "</svg>\n"
      ]
     },
     "execution_count": 7,
     "metadata": {},
     "output_type": "execute_result"
    }
   ],
   "source": [
    "using Plots, LaTeXStrings\n",
    "gr()\n",
    "plot(Γ,bb',yaxis=:log10, w=3, legend=false)\n",
    "zs, os = zeros(N), ones(N)\n",
    "scatter!(zs,b_cheb,marker=:x)\n",
    "scatter!(os,b_leg,marker=:circle)\n",
    "\n",
    "xlabel!(L\"\\gamma\")\n",
    "ylabel!(L\"\\beta\")\n",
    "title!(\"N=$N Recurrence Coefficients Interpolating from Chebyshev to Legendre\")"
   ]
  },
  {
   "cell_type": "markdown",
   "metadata": {},
   "source": [
    "The crosses denote the values of the β recursion coefficients for Chebyshev polynomials; the circles the β recursion coefficients for Legendre polynomials.\n",
    "The interpolating line in between stands for the β recursion coefficients of $w(t;\\gamma)$."
   ]
  }
 ],
 "metadata": {
  "kernelspec": {
   "display_name": "Julia 1.1.0",
   "language": "julia",
   "name": "julia-1.1"
  },
  "language_info": {
   "file_extension": ".jl",
   "mimetype": "application/julia",
   "name": "julia",
   "version": "1.1.0"
  }
 },
 "nbformat": 4,
 "nbformat_minor": 2
}
