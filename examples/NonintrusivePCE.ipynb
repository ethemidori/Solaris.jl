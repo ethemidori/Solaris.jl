{
 "cells": [
  {
   "cell_type": "markdown",
   "metadata": {},
   "source": [
    "# Non-intrusive Polynomial Chaos\n",
    "Suppose that $X$ is a real-valued Gaussian random variable with mean $\\mu \\in \\mathbb{R}$ and standard deviation $\\sigma \\geq 0$.\n",
    "We are interested in the PCE coefficients of the random variable $Y = \\exp(X)$.\n",
    "\n",
    "## Analytical Solution\n",
    "We know that $Y$ is a [log-normal random variable](https://en.wikipedia.org/wiki/Log-normal_distribution).\n",
    "Thanks to [this book](https://link.springer.com/book/10.1007/978-3-319-23395-6) we know even more: the analytical solution of the PCE coefficients $Y = \\sum_{k \\in \\mathcal{K}} y_k \\phi_k$:\n",
    "$$y_k = \\frac{\\mathrm{e}^{\\mu + \\sigma^2/2} \\sigma^k}{k!}.$$\n",
    "\n",
    "Let's code this reference solution."
   ]
  },
  {
   "cell_type": "code",
   "execution_count": 1,
   "metadata": {},
   "outputs": [
    {
     "data": {
      "text/plain": [
       "11-element Array{Float64,1}:\n",
       " 2.731907272825927     \n",
       " 0.2731907272825927    \n",
       " 0.013659536364129636  \n",
       " 0.00045531787880432126\n",
       " 1.138294697010803e-5  \n",
       " 2.276589394021606e-7  \n",
       " 3.794315656702678e-9  \n",
       " 5.4204509381466814e-11\n",
       " 6.775563672683354e-13 \n",
       " 7.528404080759281e-15 \n",
       " 7.528404080759283e-17 "
      ]
     },
     "execution_count": 1,
     "metadata": {},
     "output_type": "execute_result"
    }
   ],
   "source": [
    "μ, σ = 1, 0.1\n",
    "k_values = 0:10\n",
    "function computeCoefficient_analytic(k::Int)\n",
    "    exp(μ + 0.5*σ^2) * σ^k / factorial(k)\n",
    "end\n",
    "\n",
    "y_ana = computeCoefficient_analytic.(k_values)"
   ]
  },
  {
   "cell_type": "markdown",
   "metadata": {},
   "source": [
    "## Numerical Solution\n",
    "We now want to construct the solution numerically using `PolyChaos`.\n",
    "The definition of the $k$-th PCE coefficient is\n",
    "$$\n",
    "y_k = \\frac{\\langle \\mathrm{e}^{\\mu + \\sigma \\Xi}, \\phi_k \\rangle}{\\langle \\phi_k, \\phi_k \\rangle},\n",
    "$$\n",
    "where $\\Xi$ is a standard Gaussian random variable with mean zero and unit variance.\n",
    "A few manipulations lead us to the integral\n",
    "$$\n",
    "y_k = \\frac{\\mathrm{e}^{\\mu + \\sigma^2/2}}{k! \\sqrt{2 \\pi}} \\int_{\\mathbb{R}} \\mathrm{He}_k(w + \\sigma) \\mathrm{e}^{- x^2/2} \\mathrm{d}w,\n",
    "$$\n",
    "which we can solve using `PolyChaos.jl`"
   ]
  },
  {
   "cell_type": "code",
   "execution_count": 4,
   "metadata": {},
   "outputs": [
    {
     "data": {
      "text/plain": [
       "11-element Array{Float64,1}:\n",
       " 2.7319072728259264   \n",
       " 0.27319072728259286  \n",
       " 0.013659536364131822 \n",
       " 0.0004553178788047899\n",
       " 1.1382946970000281e-5\n",
       " 2.2765893917412756e-7\n",
       " 3.7943156337759115e-9\n",
       " 5.420454653270979e-11\n",
       " 6.775600262027881e-13\n",
       " 7.524514560809339e-15\n",
       " 7.502338086662093e-17"
      ]
     },
     "execution_count": 4,
     "metadata": {},
     "output_type": "execute_result"
    }
   ],
   "source": [
    "using PolyChaos\n",
    "maxdegree = maximum(k_values)\n",
    "op = GaussOrthoPoly(maxdegree, Nrec=2*maxdegree)\n",
    "\n",
    "function computeCoefficients_numeric(k::Int)\n",
    "    He_k(w) = evaluate(k, w + σ, op)\n",
    "    exp(μ + 0.5*σ^2) / factorial(k) * integrate(He_k, op)\n",
    "end\n",
    "\n",
    "y_num = computeCoefficients_numeric.(k_values)"
   ]
  },
  {
   "cell_type": "markdown",
   "metadata": {},
   "source": [
    "Comparing the results we see that the results coincide."
   ]
  },
  {
   "cell_type": "code",
   "execution_count": 5,
   "metadata": {},
   "outputs": [
    {
     "data": {
      "text/plain": [
       "2.185751579730777e-15"
      ]
     },
     "execution_count": 5,
     "metadata": {},
     "output_type": "execute_result"
    }
   ],
   "source": [
    "using LinearAlgebra\n",
    "norm(y_ana - y_num, Inf)"
   ]
  },
  {
   "cell_type": "code",
   "execution_count": null,
   "metadata": {},
   "outputs": [],
   "source": []
  }
 ],
 "metadata": {
  "kernelspec": {
   "display_name": "Julia 1.1.0",
   "language": "julia",
   "name": "julia-1.1"
  },
  "language_info": {
   "file_extension": ".jl",
   "mimetype": "application/julia",
   "name": "julia",
   "version": "1.1.0"
  }
 },
 "nbformat": 4,
 "nbformat_minor": 2
}
